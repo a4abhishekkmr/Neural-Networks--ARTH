{
  "nbformat": 4,
  "nbformat_minor": 0,
  "metadata": {
    "colab": {
      "name": "Churn_Modelling.ipynb",
      "provenance": [],
      "collapsed_sections": [],
      "authorship_tag": "ABX9TyNjzy/ImX3AmR7R/RLqUcbp",
      "include_colab_link": true
    },
    "kernelspec": {
      "name": "python3",
      "display_name": "Python 3"
    }
  },
  "cells": [
    {
      "cell_type": "markdown",
      "metadata": {
        "id": "view-in-github",
        "colab_type": "text"
      },
      "source": [
        "<a href=\"https://colab.research.google.com/github/a4abhishekkmr/Neural-Networks--ARTH/blob/master/Churn_Modelling.ipynb\" target=\"_parent\"><img src=\"https://colab.research.google.com/assets/colab-badge.svg\" alt=\"Open In Colab\"/></a>"
      ]
    },
    {
      "cell_type": "code",
      "metadata": {
        "id": "zcWPqGE_rDzc"
      },
      "source": [
        "#Importing pandas"
      ],
      "execution_count": 1,
      "outputs": []
    },
    {
      "cell_type": "code",
      "metadata": {
        "id": "PlffBSGussIi"
      },
      "source": [
        "import pandas as pd"
      ],
      "execution_count": 2,
      "outputs": []
    },
    {
      "cell_type": "code",
      "metadata": {
        "id": "xShaQwFNsusE"
      },
      "source": [
        "#Importing DAtaset"
      ],
      "execution_count": 3,
      "outputs": []
    },
    {
      "cell_type": "code",
      "metadata": {
        "id": "PQPdMzD0syDZ"
      },
      "source": [
        "dataset=pd.read_csv(\"/content/sample_data/Churn_Modelling.csv\")"
      ],
      "execution_count": 4,
      "outputs": []
    },
    {
      "cell_type": "code",
      "metadata": {
        "colab": {
          "base_uri": "https://localhost:8080/",
          "height": 422
        },
        "id": "hT2ciODCtAqi",
        "outputId": "a05ce763-448f-463a-f6ba-beb09c444cfd"
      },
      "source": [
        "dataset"
      ],
      "execution_count": 5,
      "outputs": [
        {
          "output_type": "execute_result",
          "data": {
            "text/html": [
              "<div>\n",
              "<style scoped>\n",
              "    .dataframe tbody tr th:only-of-type {\n",
              "        vertical-align: middle;\n",
              "    }\n",
              "\n",
              "    .dataframe tbody tr th {\n",
              "        vertical-align: top;\n",
              "    }\n",
              "\n",
              "    .dataframe thead th {\n",
              "        text-align: right;\n",
              "    }\n",
              "</style>\n",
              "<table border=\"1\" class=\"dataframe\">\n",
              "  <thead>\n",
              "    <tr style=\"text-align: right;\">\n",
              "      <th></th>\n",
              "      <th>RowNumber</th>\n",
              "      <th>CustomerId</th>\n",
              "      <th>Surname</th>\n",
              "      <th>CreditScore</th>\n",
              "      <th>Geography</th>\n",
              "      <th>Gender</th>\n",
              "      <th>Age</th>\n",
              "      <th>Tenure</th>\n",
              "      <th>Balance</th>\n",
              "      <th>NumOfProducts</th>\n",
              "      <th>HasCrCard</th>\n",
              "      <th>IsActiveMember</th>\n",
              "      <th>EstimatedSalary</th>\n",
              "      <th>Exited</th>\n",
              "    </tr>\n",
              "  </thead>\n",
              "  <tbody>\n",
              "    <tr>\n",
              "      <th>0</th>\n",
              "      <td>1</td>\n",
              "      <td>15634602</td>\n",
              "      <td>Hargrave</td>\n",
              "      <td>619</td>\n",
              "      <td>France</td>\n",
              "      <td>Female</td>\n",
              "      <td>42</td>\n",
              "      <td>2</td>\n",
              "      <td>0.00</td>\n",
              "      <td>1</td>\n",
              "      <td>1</td>\n",
              "      <td>1</td>\n",
              "      <td>101348.88</td>\n",
              "      <td>1</td>\n",
              "    </tr>\n",
              "    <tr>\n",
              "      <th>1</th>\n",
              "      <td>2</td>\n",
              "      <td>15647311</td>\n",
              "      <td>Hill</td>\n",
              "      <td>608</td>\n",
              "      <td>Spain</td>\n",
              "      <td>Female</td>\n",
              "      <td>41</td>\n",
              "      <td>1</td>\n",
              "      <td>83807.86</td>\n",
              "      <td>1</td>\n",
              "      <td>0</td>\n",
              "      <td>1</td>\n",
              "      <td>112542.58</td>\n",
              "      <td>0</td>\n",
              "    </tr>\n",
              "    <tr>\n",
              "      <th>2</th>\n",
              "      <td>3</td>\n",
              "      <td>15619304</td>\n",
              "      <td>Onio</td>\n",
              "      <td>502</td>\n",
              "      <td>France</td>\n",
              "      <td>Female</td>\n",
              "      <td>42</td>\n",
              "      <td>8</td>\n",
              "      <td>159660.80</td>\n",
              "      <td>3</td>\n",
              "      <td>1</td>\n",
              "      <td>0</td>\n",
              "      <td>113931.57</td>\n",
              "      <td>1</td>\n",
              "    </tr>\n",
              "    <tr>\n",
              "      <th>3</th>\n",
              "      <td>4</td>\n",
              "      <td>15701354</td>\n",
              "      <td>Boni</td>\n",
              "      <td>699</td>\n",
              "      <td>France</td>\n",
              "      <td>Female</td>\n",
              "      <td>39</td>\n",
              "      <td>1</td>\n",
              "      <td>0.00</td>\n",
              "      <td>2</td>\n",
              "      <td>0</td>\n",
              "      <td>0</td>\n",
              "      <td>93826.63</td>\n",
              "      <td>0</td>\n",
              "    </tr>\n",
              "    <tr>\n",
              "      <th>4</th>\n",
              "      <td>5</td>\n",
              "      <td>15737888</td>\n",
              "      <td>Mitchell</td>\n",
              "      <td>850</td>\n",
              "      <td>Spain</td>\n",
              "      <td>Female</td>\n",
              "      <td>43</td>\n",
              "      <td>2</td>\n",
              "      <td>125510.82</td>\n",
              "      <td>1</td>\n",
              "      <td>1</td>\n",
              "      <td>1</td>\n",
              "      <td>79084.10</td>\n",
              "      <td>0</td>\n",
              "    </tr>\n",
              "    <tr>\n",
              "      <th>...</th>\n",
              "      <td>...</td>\n",
              "      <td>...</td>\n",
              "      <td>...</td>\n",
              "      <td>...</td>\n",
              "      <td>...</td>\n",
              "      <td>...</td>\n",
              "      <td>...</td>\n",
              "      <td>...</td>\n",
              "      <td>...</td>\n",
              "      <td>...</td>\n",
              "      <td>...</td>\n",
              "      <td>...</td>\n",
              "      <td>...</td>\n",
              "      <td>...</td>\n",
              "    </tr>\n",
              "    <tr>\n",
              "      <th>9995</th>\n",
              "      <td>9996</td>\n",
              "      <td>15606229</td>\n",
              "      <td>Obijiaku</td>\n",
              "      <td>771</td>\n",
              "      <td>France</td>\n",
              "      <td>Male</td>\n",
              "      <td>39</td>\n",
              "      <td>5</td>\n",
              "      <td>0.00</td>\n",
              "      <td>2</td>\n",
              "      <td>1</td>\n",
              "      <td>0</td>\n",
              "      <td>96270.64</td>\n",
              "      <td>0</td>\n",
              "    </tr>\n",
              "    <tr>\n",
              "      <th>9996</th>\n",
              "      <td>9997</td>\n",
              "      <td>15569892</td>\n",
              "      <td>Johnstone</td>\n",
              "      <td>516</td>\n",
              "      <td>France</td>\n",
              "      <td>Male</td>\n",
              "      <td>35</td>\n",
              "      <td>10</td>\n",
              "      <td>57369.61</td>\n",
              "      <td>1</td>\n",
              "      <td>1</td>\n",
              "      <td>1</td>\n",
              "      <td>101699.77</td>\n",
              "      <td>0</td>\n",
              "    </tr>\n",
              "    <tr>\n",
              "      <th>9997</th>\n",
              "      <td>9998</td>\n",
              "      <td>15584532</td>\n",
              "      <td>Liu</td>\n",
              "      <td>709</td>\n",
              "      <td>France</td>\n",
              "      <td>Female</td>\n",
              "      <td>36</td>\n",
              "      <td>7</td>\n",
              "      <td>0.00</td>\n",
              "      <td>1</td>\n",
              "      <td>0</td>\n",
              "      <td>1</td>\n",
              "      <td>42085.58</td>\n",
              "      <td>1</td>\n",
              "    </tr>\n",
              "    <tr>\n",
              "      <th>9998</th>\n",
              "      <td>9999</td>\n",
              "      <td>15682355</td>\n",
              "      <td>Sabbatini</td>\n",
              "      <td>772</td>\n",
              "      <td>Germany</td>\n",
              "      <td>Male</td>\n",
              "      <td>42</td>\n",
              "      <td>3</td>\n",
              "      <td>75075.31</td>\n",
              "      <td>2</td>\n",
              "      <td>1</td>\n",
              "      <td>0</td>\n",
              "      <td>92888.52</td>\n",
              "      <td>1</td>\n",
              "    </tr>\n",
              "    <tr>\n",
              "      <th>9999</th>\n",
              "      <td>10000</td>\n",
              "      <td>15628319</td>\n",
              "      <td>Walker</td>\n",
              "      <td>792</td>\n",
              "      <td>France</td>\n",
              "      <td>Female</td>\n",
              "      <td>28</td>\n",
              "      <td>4</td>\n",
              "      <td>130142.79</td>\n",
              "      <td>1</td>\n",
              "      <td>1</td>\n",
              "      <td>0</td>\n",
              "      <td>38190.78</td>\n",
              "      <td>0</td>\n",
              "    </tr>\n",
              "  </tbody>\n",
              "</table>\n",
              "<p>10000 rows × 14 columns</p>\n",
              "</div>"
            ],
            "text/plain": [
              "      RowNumber  CustomerId    Surname  ...  IsActiveMember EstimatedSalary Exited\n",
              "0             1    15634602   Hargrave  ...               1       101348.88      1\n",
              "1             2    15647311       Hill  ...               1       112542.58      0\n",
              "2             3    15619304       Onio  ...               0       113931.57      1\n",
              "3             4    15701354       Boni  ...               0        93826.63      0\n",
              "4             5    15737888   Mitchell  ...               1        79084.10      0\n",
              "...         ...         ...        ...  ...             ...             ...    ...\n",
              "9995       9996    15606229   Obijiaku  ...               0        96270.64      0\n",
              "9996       9997    15569892  Johnstone  ...               1       101699.77      0\n",
              "9997       9998    15584532        Liu  ...               1        42085.58      1\n",
              "9998       9999    15682355  Sabbatini  ...               0        92888.52      1\n",
              "9999      10000    15628319     Walker  ...               0        38190.78      0\n",
              "\n",
              "[10000 rows x 14 columns]"
            ]
          },
          "metadata": {
            "tags": []
          },
          "execution_count": 5
        }
      ]
    },
    {
      "cell_type": "code",
      "metadata": {
        "colab": {
          "base_uri": "https://localhost:8080/"
        },
        "id": "-1suUaaStBoF",
        "outputId": "d474efa5-fa97-4730-bbb6-04db1d8cbe8f"
      },
      "source": [
        "dataset.columns"
      ],
      "execution_count": 6,
      "outputs": [
        {
          "output_type": "execute_result",
          "data": {
            "text/plain": [
              "Index(['RowNumber', 'CustomerId', 'Surname', 'CreditScore', 'Geography',\n",
              "       'Gender', 'Age', 'Tenure', 'Balance', 'NumOfProducts', 'HasCrCard',\n",
              "       'IsActiveMember', 'EstimatedSalary', 'Exited'],\n",
              "      dtype='object')"
            ]
          },
          "metadata": {
            "tags": []
          },
          "execution_count": 6
        }
      ]
    },
    {
      "cell_type": "code",
      "metadata": {
        "id": "94M6on3FtF6E"
      },
      "source": [
        "y = dataset['Exited']"
      ],
      "execution_count": 7,
      "outputs": []
    },
    {
      "cell_type": "code",
      "metadata": {
        "colab": {
          "base_uri": "https://localhost:8080/"
        },
        "id": "h8-flmQdtIFg",
        "outputId": "7f0119af-87c7-4879-b974-29cbf7d30476"
      },
      "source": [
        "\r\n",
        "X = dataset[['CreditScore', 'Age', 'Tenure', 'Balance', 'NumOfProducts', 'HasCrCard',\r\n",
        "                  'IsActiveMember', 'EstimatedSalary']]\r\n",
        "X.shape"
      ],
      "execution_count": 8,
      "outputs": [
        {
          "output_type": "execute_result",
          "data": {
            "text/plain": [
              "(10000, 8)"
            ]
          },
          "metadata": {
            "tags": []
          },
          "execution_count": 8
        }
      ]
    },
    {
      "cell_type": "code",
      "metadata": {
        "id": "1cKWRifxtK7E"
      },
      "source": [
        "#One Hot Encoding For Geography Feature"
      ],
      "execution_count": 9,
      "outputs": []
    },
    {
      "cell_type": "code",
      "metadata": {
        "colab": {
          "base_uri": "https://localhost:8080/",
          "height": 402
        },
        "id": "dDpVhE_GtN2x",
        "outputId": "a1df3838-da00-4e44-e7e1-94e766f4e9a5"
      },
      "source": [
        "Geo = pd.get_dummies(dataset['Geography'], drop_first=True)\r\n",
        "Geo"
      ],
      "execution_count": 10,
      "outputs": [
        {
          "output_type": "execute_result",
          "data": {
            "text/html": [
              "<div>\n",
              "<style scoped>\n",
              "    .dataframe tbody tr th:only-of-type {\n",
              "        vertical-align: middle;\n",
              "    }\n",
              "\n",
              "    .dataframe tbody tr th {\n",
              "        vertical-align: top;\n",
              "    }\n",
              "\n",
              "    .dataframe thead th {\n",
              "        text-align: right;\n",
              "    }\n",
              "</style>\n",
              "<table border=\"1\" class=\"dataframe\">\n",
              "  <thead>\n",
              "    <tr style=\"text-align: right;\">\n",
              "      <th></th>\n",
              "      <th>Germany</th>\n",
              "      <th>Spain</th>\n",
              "    </tr>\n",
              "  </thead>\n",
              "  <tbody>\n",
              "    <tr>\n",
              "      <th>0</th>\n",
              "      <td>0</td>\n",
              "      <td>0</td>\n",
              "    </tr>\n",
              "    <tr>\n",
              "      <th>1</th>\n",
              "      <td>0</td>\n",
              "      <td>1</td>\n",
              "    </tr>\n",
              "    <tr>\n",
              "      <th>2</th>\n",
              "      <td>0</td>\n",
              "      <td>0</td>\n",
              "    </tr>\n",
              "    <tr>\n",
              "      <th>3</th>\n",
              "      <td>0</td>\n",
              "      <td>0</td>\n",
              "    </tr>\n",
              "    <tr>\n",
              "      <th>4</th>\n",
              "      <td>0</td>\n",
              "      <td>1</td>\n",
              "    </tr>\n",
              "    <tr>\n",
              "      <th>...</th>\n",
              "      <td>...</td>\n",
              "      <td>...</td>\n",
              "    </tr>\n",
              "    <tr>\n",
              "      <th>9995</th>\n",
              "      <td>0</td>\n",
              "      <td>0</td>\n",
              "    </tr>\n",
              "    <tr>\n",
              "      <th>9996</th>\n",
              "      <td>0</td>\n",
              "      <td>0</td>\n",
              "    </tr>\n",
              "    <tr>\n",
              "      <th>9997</th>\n",
              "      <td>0</td>\n",
              "      <td>0</td>\n",
              "    </tr>\n",
              "    <tr>\n",
              "      <th>9998</th>\n",
              "      <td>1</td>\n",
              "      <td>0</td>\n",
              "    </tr>\n",
              "    <tr>\n",
              "      <th>9999</th>\n",
              "      <td>0</td>\n",
              "      <td>0</td>\n",
              "    </tr>\n",
              "  </tbody>\n",
              "</table>\n",
              "<p>10000 rows × 2 columns</p>\n",
              "</div>"
            ],
            "text/plain": [
              "      Germany  Spain\n",
              "0           0      0\n",
              "1           0      1\n",
              "2           0      0\n",
              "3           0      0\n",
              "4           0      1\n",
              "...       ...    ...\n",
              "9995        0      0\n",
              "9996        0      0\n",
              "9997        0      0\n",
              "9998        1      0\n",
              "9999        0      0\n",
              "\n",
              "[10000 rows x 2 columns]"
            ]
          },
          "metadata": {
            "tags": []
          },
          "execution_count": 10
        }
      ]
    },
    {
      "cell_type": "code",
      "metadata": {
        "id": "2US_nWNduAz7"
      },
      "source": [
        "#One Hot Encoding For Gender Feature"
      ],
      "execution_count": 11,
      "outputs": []
    },
    {
      "cell_type": "code",
      "metadata": {
        "colab": {
          "base_uri": "https://localhost:8080/",
          "height": 402
        },
        "id": "U8SLXYuhuFDX",
        "outputId": "8a61554a-5f44-4463-db28-0ae19f28e9d5"
      },
      "source": [
        "Gender = pd.get_dummies(dataset['Gender'], drop_first=True)\r\n",
        "Gender"
      ],
      "execution_count": 13,
      "outputs": [
        {
          "output_type": "execute_result",
          "data": {
            "text/html": [
              "<div>\n",
              "<style scoped>\n",
              "    .dataframe tbody tr th:only-of-type {\n",
              "        vertical-align: middle;\n",
              "    }\n",
              "\n",
              "    .dataframe tbody tr th {\n",
              "        vertical-align: top;\n",
              "    }\n",
              "\n",
              "    .dataframe thead th {\n",
              "        text-align: right;\n",
              "    }\n",
              "</style>\n",
              "<table border=\"1\" class=\"dataframe\">\n",
              "  <thead>\n",
              "    <tr style=\"text-align: right;\">\n",
              "      <th></th>\n",
              "      <th>Male</th>\n",
              "    </tr>\n",
              "  </thead>\n",
              "  <tbody>\n",
              "    <tr>\n",
              "      <th>0</th>\n",
              "      <td>0</td>\n",
              "    </tr>\n",
              "    <tr>\n",
              "      <th>1</th>\n",
              "      <td>0</td>\n",
              "    </tr>\n",
              "    <tr>\n",
              "      <th>2</th>\n",
              "      <td>0</td>\n",
              "    </tr>\n",
              "    <tr>\n",
              "      <th>3</th>\n",
              "      <td>0</td>\n",
              "    </tr>\n",
              "    <tr>\n",
              "      <th>4</th>\n",
              "      <td>0</td>\n",
              "    </tr>\n",
              "    <tr>\n",
              "      <th>...</th>\n",
              "      <td>...</td>\n",
              "    </tr>\n",
              "    <tr>\n",
              "      <th>9995</th>\n",
              "      <td>1</td>\n",
              "    </tr>\n",
              "    <tr>\n",
              "      <th>9996</th>\n",
              "      <td>1</td>\n",
              "    </tr>\n",
              "    <tr>\n",
              "      <th>9997</th>\n",
              "      <td>0</td>\n",
              "    </tr>\n",
              "    <tr>\n",
              "      <th>9998</th>\n",
              "      <td>1</td>\n",
              "    </tr>\n",
              "    <tr>\n",
              "      <th>9999</th>\n",
              "      <td>0</td>\n",
              "    </tr>\n",
              "  </tbody>\n",
              "</table>\n",
              "<p>10000 rows × 1 columns</p>\n",
              "</div>"
            ],
            "text/plain": [
              "      Male\n",
              "0        0\n",
              "1        0\n",
              "2        0\n",
              "3        0\n",
              "4        0\n",
              "...    ...\n",
              "9995     1\n",
              "9996     1\n",
              "9997     0\n",
              "9998     1\n",
              "9999     0\n",
              "\n",
              "[10000 rows x 1 columns]"
            ]
          },
          "metadata": {
            "tags": []
          },
          "execution_count": 13
        }
      ]
    },
    {
      "cell_type": "code",
      "metadata": {
        "colab": {
          "base_uri": "https://localhost:8080/"
        },
        "id": "ZJydXRltuG-N",
        "outputId": "add1a4f6-eb20-44c3-b90e-c3916091f643"
      },
      "source": [
        "X = pd.concat([X, Geo, Gender], axis=1)\r\n",
        "X.shape"
      ],
      "execution_count": 14,
      "outputs": [
        {
          "output_type": "execute_result",
          "data": {
            "text/plain": [
              "(10000, 11)"
            ]
          },
          "metadata": {
            "tags": []
          },
          "execution_count": 14
        }
      ]
    },
    {
      "cell_type": "code",
      "metadata": {
        "id": "vkAbNDtmuR2G"
      },
      "source": [
        "#importing train_test_split\r\n",
        "\r\n",
        "#Before feeding your data into the neural network you need to split that data into training set and testing set. this can be done using\r\n",
        "\r\n",
        "#train_test_split method from sklearn library and from model_selection module"
      ],
      "execution_count": 15,
      "outputs": []
    },
    {
      "cell_type": "code",
      "metadata": {
        "id": "_o1EAM7HuYgs"
      },
      "source": [
        "from sklearn.model_selection import train_test_split\r\n",
        "X_train, X_test, y_train, y_test = train_test_split(X,y, test_size=0.20, random_state=40)"
      ],
      "execution_count": 16,
      "outputs": []
    },
    {
      "cell_type": "code",
      "metadata": {
        "id": "11lyj2Ujubjo"
      },
      "source": [
        "\r\n",
        "#importing Sequrntial Model From keras\r\n"
      ],
      "execution_count": 17,
      "outputs": []
    },
    {
      "cell_type": "code",
      "metadata": {
        "id": "L3tDueCSuj6P"
      },
      "source": [
        "from keras.models import Sequential\r\n",
        "model = Sequential()            # creating Empty model"
      ],
      "execution_count": 18,
      "outputs": []
    },
    {
      "cell_type": "code",
      "metadata": {
        "id": "jhmvCXzWvEBP"
      },
      "source": [
        "#Importing Dense Layer"
      ],
      "execution_count": 19,
      "outputs": []
    },
    {
      "cell_type": "code",
      "metadata": {
        "id": "GZEH2CvAvKPu"
      },
      "source": [
        "from keras.layers import Dense"
      ],
      "execution_count": 21,
      "outputs": []
    },
    {
      "cell_type": "code",
      "metadata": {
        "id": "w-5fRTRpvMkW"
      },
      "source": [
        "#Adding First Layer to model with neurons=8, input_feature=11 and activation fn = relu (rectified linear unit)"
      ],
      "execution_count": 22,
      "outputs": []
    },
    {
      "cell_type": "code",
      "metadata": {
        "id": "4ksMxyHqvS1k"
      },
      "source": [
        "#1st layer\r\n",
        "model.add(Dense(units=8, activation='relu', input_dim=11))"
      ],
      "execution_count": 27,
      "outputs": []
    },
    {
      "cell_type": "code",
      "metadata": {
        "id": "DwYa7UqBvVHs"
      },
      "source": [
        "#Relu is an activation function i.e its will activate the neurons in the hidden layers. The main functions of relu is that all the output from a layers from all the neuron will pass to another layers of the respective neurons."
      ],
      "execution_count": 28,
      "outputs": []
    },
    {
      "cell_type": "code",
      "metadata": {
        "id": "SiCpM_WH1iKJ"
      },
      "source": [
        "#Adding Second Layer with neurons=6 and activation fn = relu"
      ],
      "execution_count": 29,
      "outputs": []
    },
    {
      "cell_type": "code",
      "metadata": {
        "id": "4zcoJtpf1vzD"
      },
      "source": [
        "model.add(Dense(units=6, activation='relu'))"
      ],
      "execution_count": 30,
      "outputs": []
    },
    {
      "cell_type": "code",
      "metadata": {
        "id": "gvWxxH_Y1yQ-"
      },
      "source": [
        "#Adding third layer with neurons=6 and activation fn = relu"
      ],
      "execution_count": 31,
      "outputs": []
    },
    {
      "cell_type": "code",
      "metadata": {
        "id": "jvkqoCCi11tQ"
      },
      "source": [
        "model.add(Dense(units=6, activation='relu'))"
      ],
      "execution_count": 32,
      "outputs": []
    },
    {
      "cell_type": "code",
      "metadata": {
        "id": "jCDukVOr14Ny"
      },
      "source": [
        "#Adding last layer with neurons=1 and activation fn = relu"
      ],
      "execution_count": 33,
      "outputs": []
    },
    {
      "cell_type": "code",
      "metadata": {
        "id": "d_2iPAC42Hzt"
      },
      "source": [
        "model.add(Dense(units=1, activation='sigmoid'))"
      ],
      "execution_count": 34,
      "outputs": []
    },
    {
      "cell_type": "code",
      "metadata": {
        "colab": {
          "base_uri": "https://localhost:8080/"
        },
        "id": "dEBnFC8L2QRK",
        "outputId": "a7c293f3-7f43-4b6f-ca0e-7cf95deb83de"
      },
      "source": [
        "model.get_config()"
      ],
      "execution_count": 36,
      "outputs": [
        {
          "output_type": "execute_result",
          "data": {
            "text/plain": [
              "{'layers': [{'class_name': 'InputLayer',\n",
              "   'config': {'batch_input_shape': (None, 11),\n",
              "    'dtype': 'float32',\n",
              "    'name': 'dense_input',\n",
              "    'ragged': False,\n",
              "    'sparse': False}},\n",
              "  {'class_name': 'Dense',\n",
              "   'config': {'activation': 'relu',\n",
              "    'activity_regularizer': None,\n",
              "    'batch_input_shape': (None, 11),\n",
              "    'bias_constraint': None,\n",
              "    'bias_initializer': {'class_name': 'Zeros', 'config': {}},\n",
              "    'bias_regularizer': None,\n",
              "    'dtype': 'float32',\n",
              "    'kernel_constraint': None,\n",
              "    'kernel_initializer': {'class_name': 'GlorotUniform',\n",
              "     'config': {'seed': None}},\n",
              "    'kernel_regularizer': None,\n",
              "    'name': 'dense',\n",
              "    'trainable': True,\n",
              "    'units': 8,\n",
              "    'use_bias': True}},\n",
              "  {'class_name': 'Dense',\n",
              "   'config': {'activation': 'relu',\n",
              "    'activity_regularizer': None,\n",
              "    'batch_input_shape': (None, 11),\n",
              "    'bias_constraint': None,\n",
              "    'bias_initializer': {'class_name': 'Zeros', 'config': {}},\n",
              "    'bias_regularizer': None,\n",
              "    'dtype': 'float32',\n",
              "    'kernel_constraint': None,\n",
              "    'kernel_initializer': {'class_name': 'GlorotUniform',\n",
              "     'config': {'seed': None}},\n",
              "    'kernel_regularizer': None,\n",
              "    'name': 'dense_1',\n",
              "    'trainable': True,\n",
              "    'units': 8,\n",
              "    'use_bias': True}},\n",
              "  {'class_name': 'Dense',\n",
              "   'config': {'activation': 'relu',\n",
              "    'activity_regularizer': None,\n",
              "    'batch_input_shape': (None, 11),\n",
              "    'bias_constraint': None,\n",
              "    'bias_initializer': {'class_name': 'Zeros', 'config': {}},\n",
              "    'bias_regularizer': None,\n",
              "    'dtype': 'float32',\n",
              "    'kernel_constraint': None,\n",
              "    'kernel_initializer': {'class_name': 'GlorotUniform',\n",
              "     'config': {'seed': None}},\n",
              "    'kernel_regularizer': None,\n",
              "    'name': 'dense_2',\n",
              "    'trainable': True,\n",
              "    'units': 8,\n",
              "    'use_bias': True}},\n",
              "  {'class_name': 'Dense',\n",
              "   'config': {'activation': 'relu',\n",
              "    'activity_regularizer': None,\n",
              "    'batch_input_shape': (None, 11),\n",
              "    'bias_constraint': None,\n",
              "    'bias_initializer': {'class_name': 'Zeros', 'config': {}},\n",
              "    'bias_regularizer': None,\n",
              "    'dtype': 'float32',\n",
              "    'kernel_constraint': None,\n",
              "    'kernel_initializer': {'class_name': 'GlorotUniform',\n",
              "     'config': {'seed': None}},\n",
              "    'kernel_regularizer': None,\n",
              "    'name': 'dense_3',\n",
              "    'trainable': True,\n",
              "    'units': 8,\n",
              "    'use_bias': True}},\n",
              "  {'class_name': 'Dense',\n",
              "   'config': {'activation': 'relu',\n",
              "    'activity_regularizer': None,\n",
              "    'bias_constraint': None,\n",
              "    'bias_initializer': {'class_name': 'Zeros', 'config': {}},\n",
              "    'bias_regularizer': None,\n",
              "    'dtype': 'float32',\n",
              "    'kernel_constraint': None,\n",
              "    'kernel_initializer': {'class_name': 'GlorotUniform',\n",
              "     'config': {'seed': None}},\n",
              "    'kernel_regularizer': None,\n",
              "    'name': 'dense_4',\n",
              "    'trainable': True,\n",
              "    'units': 6,\n",
              "    'use_bias': True}},\n",
              "  {'class_name': 'Dense',\n",
              "   'config': {'activation': 'relu',\n",
              "    'activity_regularizer': None,\n",
              "    'bias_constraint': None,\n",
              "    'bias_initializer': {'class_name': 'Zeros', 'config': {}},\n",
              "    'bias_regularizer': None,\n",
              "    'dtype': 'float32',\n",
              "    'kernel_constraint': None,\n",
              "    'kernel_initializer': {'class_name': 'GlorotUniform',\n",
              "     'config': {'seed': None}},\n",
              "    'kernel_regularizer': None,\n",
              "    'name': 'dense_5',\n",
              "    'trainable': True,\n",
              "    'units': 6,\n",
              "    'use_bias': True}},\n",
              "  {'class_name': 'Dense',\n",
              "   'config': {'activation': 'sigmoid',\n",
              "    'activity_regularizer': None,\n",
              "    'bias_constraint': None,\n",
              "    'bias_initializer': {'class_name': 'Zeros', 'config': {}},\n",
              "    'bias_regularizer': None,\n",
              "    'dtype': 'float32',\n",
              "    'kernel_constraint': None,\n",
              "    'kernel_initializer': {'class_name': 'GlorotUniform',\n",
              "     'config': {'seed': None}},\n",
              "    'kernel_regularizer': None,\n",
              "    'name': 'dense_6',\n",
              "    'trainable': True,\n",
              "    'units': 1,\n",
              "    'use_bias': True}}],\n",
              " 'name': 'sequential'}"
            ]
          },
          "metadata": {
            "tags": []
          },
          "execution_count": 36
        }
      ]
    },
    {
      "cell_type": "code",
      "metadata": {
        "colab": {
          "base_uri": "https://localhost:8080/"
        },
        "id": "sO-P5cnL2Vyp",
        "outputId": "62c6e298-4dd4-4b65-c640-bc42e37ee6b1"
      },
      "source": [
        "model.summary()"
      ],
      "execution_count": 37,
      "outputs": [
        {
          "output_type": "stream",
          "text": [
            "Model: \"sequential\"\n",
            "_________________________________________________________________\n",
            "Layer (type)                 Output Shape              Param #   \n",
            "=================================================================\n",
            "dense (Dense)                (None, 8)                 96        \n",
            "_________________________________________________________________\n",
            "dense_1 (Dense)              (None, 8)                 72        \n",
            "_________________________________________________________________\n",
            "dense_2 (Dense)              (None, 8)                 72        \n",
            "_________________________________________________________________\n",
            "dense_3 (Dense)              (None, 8)                 72        \n",
            "_________________________________________________________________\n",
            "dense_4 (Dense)              (None, 6)                 54        \n",
            "_________________________________________________________________\n",
            "dense_5 (Dense)              (None, 6)                 42        \n",
            "_________________________________________________________________\n",
            "dense_6 (Dense)              (None, 1)                 7         \n",
            "=================================================================\n",
            "Total params: 415\n",
            "Trainable params: 415\n",
            "Non-trainable params: 0\n",
            "_________________________________________________________________\n"
          ],
          "name": "stdout"
        }
      ]
    },
    {
      "cell_type": "code",
      "metadata": {
        "id": "_JM263ft2cx_"
      },
      "source": [
        "#Now"
      ],
      "execution_count": 38,
      "outputs": []
    },
    {
      "cell_type": "code",
      "metadata": {
        "id": "TKWs3rMt4UrQ"
      },
      "source": [
        "from keras.optimizers import Adam"
      ],
      "execution_count": 39,
      "outputs": []
    },
    {
      "cell_type": "code",
      "metadata": {
        "id": "DO5qi6ec4YFC"
      },
      "source": [
        "#As i have only one output that whether the Employee is exited from the company or not. i.e Binary output (Exited/notexited). So the loss will be generating in binary. To handle the binary loss we have binary_crossentropy."
      ],
      "execution_count": 40,
      "outputs": []
    },
    {
      "cell_type": "code",
      "metadata": {
        "id": "KkOBirpS4dNK"
      },
      "source": [
        "model.compile(loss='binary_crossentropy', optimizer=Adam(learning_rate=0.000001))"
      ],
      "execution_count": 41,
      "outputs": []
    },
    {
      "cell_type": "code",
      "metadata": {
        "colab": {
          "base_uri": "https://localhost:8080/"
        },
        "id": "Ve5oUWqV46v9",
        "outputId": "2853b0f5-a406-43bb-e717-e9e740f79c3c"
      },
      "source": [
        "model.get_weights()"
      ],
      "execution_count": 42,
      "outputs": [
        {
          "output_type": "execute_result",
          "data": {
            "text/plain": [
              "[array([[-3.24512690e-01,  1.05140805e-01, -3.59451771e-01,\n",
              "          6.60423040e-02, -2.00278848e-01,  5.07228673e-01,\n",
              "         -1.10296339e-01,  1.44838214e-01],\n",
              "        [-4.69111592e-01,  1.56002581e-01,  4.59399521e-01,\n",
              "          3.97834003e-01,  5.53360522e-01,  2.58718491e-01,\n",
              "          6.69040680e-02, -6.36033714e-02],\n",
              "        [-1.50493860e-01, -2.19330609e-01,  4.56126630e-01,\n",
              "         -1.24300987e-01, -2.95193255e-01, -4.55986947e-01,\n",
              "         -3.01126659e-01,  4.65699494e-01],\n",
              "        [-3.98196697e-01,  4.61718738e-01, -3.37582827e-01,\n",
              "          1.00843430e-01, -3.63381267e-01,  1.04229867e-01,\n",
              "          1.36534810e-01,  1.05256557e-01],\n",
              "        [-4.16227132e-01, -2.37134218e-01, -5.16408980e-01,\n",
              "          5.09679317e-04,  4.74111497e-01,  1.08111918e-01,\n",
              "          2.13406682e-02,  1.64789379e-01],\n",
              "        [-1.07352406e-01,  1.90047622e-01, -2.54309088e-01,\n",
              "         -1.38040602e-01, -2.80782253e-01,  1.99857056e-01,\n",
              "         -9.59072113e-02,  1.20634913e-01],\n",
              "        [-1.16085738e-01,  4.46217954e-01,  3.27869296e-01,\n",
              "          5.37326992e-01,  4.04707134e-01, -9.75745916e-02,\n",
              "          1.24370098e-01, -4.07366395e-01],\n",
              "        [-4.07435924e-01,  5.56257069e-01, -5.44079483e-01,\n",
              "          4.47766602e-01, -1.42244995e-01,  2.30484426e-01,\n",
              "         -4.22680140e-01,  1.94132388e-01],\n",
              "        [ 3.72528195e-01,  1.29991233e-01, -2.69375443e-02,\n",
              "          5.06841123e-01,  1.73163891e-01,  2.01696217e-01,\n",
              "         -2.94906795e-01, -1.35716438e-01],\n",
              "        [-4.69870031e-01, -2.75362372e-01,  4.60565507e-01,\n",
              "          1.31588280e-01, -1.75265491e-01, -1.52209997e-02,\n",
              "         -2.24103510e-01, -4.66449410e-01],\n",
              "        [-5.12252927e-01,  3.56169283e-01,  3.04738522e-01,\n",
              "         -2.05210626e-01,  5.43738186e-01, -1.58908606e-01,\n",
              "          3.94295335e-01,  3.20003986e-01]], dtype=float32),\n",
              " array([0., 0., 0., 0., 0., 0., 0., 0.], dtype=float32),\n",
              " array([[ 1.22574210e-01, -2.98960209e-02, -3.18842620e-01,\n",
              "          4.14246321e-03, -7.99537897e-02,  2.50224650e-01,\n",
              "          2.38802552e-01, -1.60863578e-01],\n",
              "        [ 2.08274901e-01, -4.26252902e-01, -3.86873960e-01,\n",
              "         -4.25564528e-01, -1.70100927e-01, -3.99274111e-01,\n",
              "          3.40718091e-01, -3.88113797e-01],\n",
              "        [-4.98490959e-01, -1.05678439e-01, -3.87137651e-01,\n",
              "         -5.09443104e-01, -2.17902958e-01, -3.13876539e-01,\n",
              "         -5.05323827e-01,  1.41263366e-01],\n",
              "        [-3.58744383e-01, -1.14292055e-01, -1.34203643e-01,\n",
              "         -3.93678546e-02, -3.30622405e-01,  2.92769015e-01,\n",
              "         -3.13837707e-01, -3.58244628e-01],\n",
              "        [ 3.25009704e-01,  1.08984888e-01, -4.86213624e-01,\n",
              "         -1.41758323e-02, -1.15259290e-01,  4.72151577e-01,\n",
              "          2.20836818e-01,  1.48341954e-01],\n",
              "        [-1.98981673e-01, -3.32283974e-03,  1.74103677e-01,\n",
              "         -9.55415964e-02,  5.15554726e-01, -2.24722654e-01,\n",
              "         -4.84373838e-01,  1.95683062e-01],\n",
              "        [ 5.22886813e-01, -4.50146377e-01, -4.53837752e-01,\n",
              "          4.14603889e-01,  4.14371490e-04,  8.97907615e-02,\n",
              "         -1.67408794e-01, -3.35097790e-01],\n",
              "        [-5.69708049e-01,  2.36132026e-01,  4.89291489e-01,\n",
              "          6.06380105e-02,  4.58148301e-01, -4.75867391e-01,\n",
              "          4.80450094e-01,  5.98702133e-01]], dtype=float32),\n",
              " array([0., 0., 0., 0., 0., 0., 0., 0.], dtype=float32),\n",
              " array([[-0.53029084,  0.24238205,  0.5895067 , -0.5736291 , -0.5234535 ,\n",
              "          0.46282917, -0.25897023, -0.21801463],\n",
              "        [ 0.08368379, -0.01000398,  0.23498726,  0.5748884 ,  0.37472957,\n",
              "         -0.41055137, -0.01326436, -0.5682048 ],\n",
              "        [ 0.30006093, -0.2158874 , -0.31167805, -0.19985664,  0.38545847,\n",
              "         -0.30029115,  0.19739348, -0.26427898],\n",
              "        [ 0.2664569 , -0.10402364, -0.05111784,  0.39370078,  0.3527375 ,\n",
              "         -0.11182857, -0.1104629 , -0.22870234],\n",
              "        [-0.08257419, -0.5626095 , -0.25833294,  0.21762162,  0.49778122,\n",
              "         -0.20743862, -0.03780901, -0.42866936],\n",
              "        [ 0.2678007 , -0.10319757, -0.09421766,  0.10259199,  0.36590004,\n",
              "         -0.32436395, -0.00425959, -0.4324    ],\n",
              "        [ 0.21776861, -0.33280382, -0.5939159 , -0.25713238, -0.46729916,\n",
              "          0.17879498, -0.12423968,  0.31357592],\n",
              "        [-0.01307714, -0.57033134, -0.0268153 , -0.05155498,  0.4015841 ,\n",
              "         -0.32389966, -0.07554382,  0.1479479 ]], dtype=float32),\n",
              " array([0., 0., 0., 0., 0., 0., 0., 0.], dtype=float32),\n",
              " array([[ 0.05693513, -0.05538195, -0.03617668, -0.4712412 , -0.596085  ,\n",
              "         -0.1881437 , -0.22677091, -0.3677804 ],\n",
              "        [ 0.49062186, -0.06236225, -0.3977798 ,  0.14066052, -0.09774196,\n",
              "         -0.30941606,  0.5270924 ,  0.14143056],\n",
              "        [ 0.0500856 , -0.49125078,  0.276362  , -0.57648265, -0.04560894,\n",
              "          0.21293294,  0.33552194, -0.09887522],\n",
              "        [ 0.5830322 ,  0.27593553, -0.15339753, -0.43838996,  0.50600153,\n",
              "         -0.6105893 ,  0.2297998 , -0.36616546],\n",
              "        [-0.09389383, -0.18375376,  0.54742724, -0.4596442 ,  0.57191104,\n",
              "          0.5822186 ,  0.1417979 ,  0.254865  ],\n",
              "        [-0.00463921,  0.36214298, -0.5457519 , -0.50479573, -0.21258399,\n",
              "         -0.21771854,  0.191634  , -0.5614596 ],\n",
              "        [-0.17265841, -0.23951766, -0.03910506,  0.3236465 ,  0.6103957 ,\n",
              "         -0.42662638,  0.23861188, -0.32272902],\n",
              "        [ 0.15548974, -0.42660433, -0.3960536 ,  0.10418993, -0.01257581,\n",
              "         -0.55067027,  0.2293989 ,  0.50612885]], dtype=float32),\n",
              " array([0., 0., 0., 0., 0., 0., 0., 0.], dtype=float32),\n",
              " array([[-0.27574998, -0.2738411 , -0.63574326,  0.13399482,  0.4588827 ,\n",
              "         -0.5012013 ],\n",
              "        [ 0.27250051, -0.20123085, -0.12798142,  0.21630257, -0.42568493,\n",
              "         -0.24429172],\n",
              "        [ 0.34008044,  0.5699074 ,  0.38787448, -0.24131823, -0.36467403,\n",
              "         -0.0758087 ],\n",
              "        [-0.19538262, -0.56109834, -0.30020002, -0.01945275,  0.5319487 ,\n",
              "         -0.13363487],\n",
              "        [-0.317563  ,  0.24938047,  0.45646167, -0.53339934, -0.42280632,\n",
              "          0.00680268],\n",
              "        [ 0.05097437, -0.5180698 ,  0.39734077, -0.16077638, -0.5278809 ,\n",
              "          0.14273304],\n",
              "        [-0.31376895,  0.20831835, -0.5814789 , -0.15294391, -0.5595113 ,\n",
              "          0.5276145 ],\n",
              "        [ 0.00475127, -0.5841644 ,  0.24282283, -0.62987506,  0.5892559 ,\n",
              "          0.38624322]], dtype=float32),\n",
              " array([0., 0., 0., 0., 0., 0.], dtype=float32),\n",
              " array([[ 4.66581643e-01,  6.87093556e-01, -3.60788316e-01,\n",
              "          6.33291662e-01,  5.85622132e-01,  5.76170504e-01],\n",
              "        [-4.62845743e-01,  7.60549307e-03,  4.26709652e-04,\n",
              "         -2.74049580e-01, -1.81735694e-01, -6.57624364e-01],\n",
              "        [-2.28778124e-02, -4.98319030e-01,  4.17233527e-01,\n",
              "          1.09166265e-01, -2.19905376e-02, -5.52671611e-01],\n",
              "        [ 4.24422801e-01,  2.34782040e-01,  5.89798748e-01,\n",
              "          3.11652362e-01, -4.92699355e-01,  2.61554599e-01],\n",
              "        [-6.42422318e-01, -6.52158380e-01,  5.05156815e-01,\n",
              "          4.41130698e-01, -6.02988541e-01, -1.23443007e-02],\n",
              "        [-5.11266530e-01,  6.99103773e-01,  6.78861082e-01,\n",
              "          7.22973347e-02, -2.10384578e-01,  4.24067557e-01]], dtype=float32),\n",
              " array([0., 0., 0., 0., 0., 0.], dtype=float32),\n",
              " array([[-0.17154044],\n",
              "        [ 0.17556083],\n",
              "        [ 0.22327626],\n",
              "        [-0.3909737 ],\n",
              "        [ 0.45978642],\n",
              "        [-0.6047399 ]], dtype=float32),\n",
              " array([0.], dtype=float32)]"
            ]
          },
          "metadata": {
            "tags": []
          },
          "execution_count": 42
        }
      ]
    },
    {
      "cell_type": "code",
      "metadata": {
        "id": "jMf4cxJy4_AX"
      },
      "source": [
        "#For training the model we need to fit the model and it require training data i.e X_train, y_train. And the epochs is 100. That means your training data will goes 100 times through the neural network which you have build above with the respective layers."
      ],
      "execution_count": 43,
      "outputs": []
    },
    {
      "cell_type": "code",
      "metadata": {
        "colab": {
          "base_uri": "https://localhost:8080/"
        },
        "id": "KGDq4wpe5INb",
        "outputId": "6ba6f76c-d8f6-4013-853d-bb6c4acc7a71"
      },
      "source": [
        "model.fit(X_train, y_train, epochs=100)"
      ],
      "execution_count": 44,
      "outputs": [
        {
          "output_type": "stream",
          "text": [
            "Epoch 1/100\n",
            "250/250 [==============================] - 1s 1ms/step - loss: 1.7464\n",
            "Epoch 2/100\n",
            "250/250 [==============================] - 0s 1ms/step - loss: 1.7440\n",
            "Epoch 3/100\n",
            "250/250 [==============================] - 0s 1ms/step - loss: 1.5992\n",
            "Epoch 4/100\n",
            "250/250 [==============================] - 0s 1ms/step - loss: 1.5494\n",
            "Epoch 5/100\n",
            "250/250 [==============================] - 0s 1ms/step - loss: 1.5707\n",
            "Epoch 6/100\n",
            "250/250 [==============================] - 0s 1ms/step - loss: 1.6293\n",
            "Epoch 7/100\n",
            "250/250 [==============================] - 0s 1ms/step - loss: 1.3913\n",
            "Epoch 8/100\n",
            "250/250 [==============================] - 0s 1ms/step - loss: 1.5151\n",
            "Epoch 9/100\n",
            "250/250 [==============================] - 0s 1ms/step - loss: 1.5024\n",
            "Epoch 10/100\n",
            "250/250 [==============================] - 0s 1ms/step - loss: 1.4145\n",
            "Epoch 11/100\n",
            "250/250 [==============================] - 0s 1ms/step - loss: 1.4848\n",
            "Epoch 12/100\n",
            "250/250 [==============================] - 0s 1ms/step - loss: 1.3946\n",
            "Epoch 13/100\n",
            "250/250 [==============================] - 0s 1ms/step - loss: 1.3993\n",
            "Epoch 14/100\n",
            "250/250 [==============================] - 0s 1ms/step - loss: 1.3328\n",
            "Epoch 15/100\n",
            "250/250 [==============================] - 0s 1ms/step - loss: 1.2806\n",
            "Epoch 16/100\n",
            "250/250 [==============================] - 0s 1ms/step - loss: 1.1912\n",
            "Epoch 17/100\n",
            "250/250 [==============================] - 0s 1ms/step - loss: 1.2925\n",
            "Epoch 18/100\n",
            "250/250 [==============================] - 0s 1ms/step - loss: 1.1373\n",
            "Epoch 19/100\n",
            "250/250 [==============================] - 0s 1ms/step - loss: 1.1020\n",
            "Epoch 20/100\n",
            "250/250 [==============================] - 0s 1ms/step - loss: 1.2861\n",
            "Epoch 21/100\n",
            "250/250 [==============================] - 0s 1ms/step - loss: 1.1282\n",
            "Epoch 22/100\n",
            "250/250 [==============================] - 0s 1ms/step - loss: 1.0740\n",
            "Epoch 23/100\n",
            "250/250 [==============================] - 0s 1ms/step - loss: 1.1125\n",
            "Epoch 24/100\n",
            "250/250 [==============================] - 0s 1ms/step - loss: 1.1003\n",
            "Epoch 25/100\n",
            "250/250 [==============================] - 0s 1ms/step - loss: 1.0645\n",
            "Epoch 26/100\n",
            "250/250 [==============================] - 0s 1ms/step - loss: 1.1067\n",
            "Epoch 27/100\n",
            "250/250 [==============================] - 0s 1ms/step - loss: 1.0760\n",
            "Epoch 28/100\n",
            "250/250 [==============================] - 0s 1ms/step - loss: 1.0086\n",
            "Epoch 29/100\n",
            "250/250 [==============================] - 0s 1ms/step - loss: 1.0321\n",
            "Epoch 30/100\n",
            "250/250 [==============================] - 0s 1ms/step - loss: 0.9557\n",
            "Epoch 31/100\n",
            "250/250 [==============================] - 0s 1ms/step - loss: 1.0183\n",
            "Epoch 32/100\n",
            "250/250 [==============================] - 0s 1ms/step - loss: 1.0486\n",
            "Epoch 33/100\n",
            "250/250 [==============================] - 0s 1ms/step - loss: 0.9857\n",
            "Epoch 34/100\n",
            "250/250 [==============================] - 0s 1ms/step - loss: 1.0160\n",
            "Epoch 35/100\n",
            "250/250 [==============================] - 0s 1ms/step - loss: 0.9697\n",
            "Epoch 36/100\n",
            "250/250 [==============================] - 0s 1ms/step - loss: 0.9519\n",
            "Epoch 37/100\n",
            "250/250 [==============================] - 0s 1ms/step - loss: 0.9393\n",
            "Epoch 38/100\n",
            "250/250 [==============================] - 0s 1ms/step - loss: 0.9197\n",
            "Epoch 39/100\n",
            "250/250 [==============================] - 0s 1ms/step - loss: 0.9104\n",
            "Epoch 40/100\n",
            "250/250 [==============================] - 0s 1ms/step - loss: 0.8910\n",
            "Epoch 41/100\n",
            "250/250 [==============================] - 0s 1ms/step - loss: 0.9142\n",
            "Epoch 42/100\n",
            "250/250 [==============================] - 0s 1ms/step - loss: 0.8972\n",
            "Epoch 43/100\n",
            "250/250 [==============================] - 0s 1ms/step - loss: 0.8590\n",
            "Epoch 44/100\n",
            "250/250 [==============================] - 0s 1ms/step - loss: 0.8288\n",
            "Epoch 45/100\n",
            "250/250 [==============================] - 0s 1ms/step - loss: 0.8233\n",
            "Epoch 46/100\n",
            "250/250 [==============================] - 0s 1ms/step - loss: 0.8333\n",
            "Epoch 47/100\n",
            "250/250 [==============================] - 0s 1ms/step - loss: 0.8743\n",
            "Epoch 48/100\n",
            "250/250 [==============================] - 0s 1ms/step - loss: 0.8333\n",
            "Epoch 49/100\n",
            "250/250 [==============================] - 0s 1ms/step - loss: 0.7992\n",
            "Epoch 50/100\n",
            "250/250 [==============================] - 0s 1ms/step - loss: 0.8310\n",
            "Epoch 51/100\n",
            "250/250 [==============================] - 0s 1ms/step - loss: 0.8164\n",
            "Epoch 52/100\n",
            "250/250 [==============================] - 0s 1ms/step - loss: 0.7964\n",
            "Epoch 53/100\n",
            "250/250 [==============================] - 0s 1ms/step - loss: 0.7728\n",
            "Epoch 54/100\n",
            "250/250 [==============================] - 0s 1ms/step - loss: 0.7717\n",
            "Epoch 55/100\n",
            "250/250 [==============================] - 0s 1ms/step - loss: 0.7519\n",
            "Epoch 56/100\n",
            "250/250 [==============================] - 0s 1ms/step - loss: 0.7552\n",
            "Epoch 57/100\n",
            "250/250 [==============================] - 0s 1ms/step - loss: 0.7516\n",
            "Epoch 58/100\n",
            "250/250 [==============================] - 0s 1ms/step - loss: 0.7548\n",
            "Epoch 59/100\n",
            "250/250 [==============================] - 0s 1ms/step - loss: 0.7397\n",
            "Epoch 60/100\n",
            "250/250 [==============================] - 0s 1ms/step - loss: 0.7274\n",
            "Epoch 61/100\n",
            "250/250 [==============================] - 0s 1ms/step - loss: 0.7082\n",
            "Epoch 62/100\n",
            "250/250 [==============================] - 0s 1ms/step - loss: 0.7063\n",
            "Epoch 63/100\n",
            "250/250 [==============================] - 0s 1ms/step - loss: 0.7025\n",
            "Epoch 64/100\n",
            "250/250 [==============================] - 0s 1ms/step - loss: 0.7026\n",
            "Epoch 65/100\n",
            "250/250 [==============================] - 0s 1ms/step - loss: 0.6883\n",
            "Epoch 66/100\n",
            "250/250 [==============================] - 0s 1ms/step - loss: 0.6905\n",
            "Epoch 67/100\n",
            "250/250 [==============================] - 0s 1ms/step - loss: 0.6829\n",
            "Epoch 68/100\n",
            "250/250 [==============================] - 0s 1ms/step - loss: 0.6807\n",
            "Epoch 69/100\n",
            "250/250 [==============================] - 0s 1ms/step - loss: 0.6830\n",
            "Epoch 70/100\n",
            "250/250 [==============================] - 0s 1ms/step - loss: 0.6652\n",
            "Epoch 71/100\n",
            "250/250 [==============================] - 0s 1ms/step - loss: 0.6695\n",
            "Epoch 72/100\n",
            "250/250 [==============================] - 0s 1ms/step - loss: 0.6612\n",
            "Epoch 73/100\n",
            "250/250 [==============================] - 0s 1ms/step - loss: 0.6587\n",
            "Epoch 74/100\n",
            "250/250 [==============================] - 0s 1ms/step - loss: 0.6933\n",
            "Epoch 75/100\n",
            "250/250 [==============================] - 0s 1ms/step - loss: 0.6589\n",
            "Epoch 76/100\n",
            "250/250 [==============================] - 0s 1ms/step - loss: 0.6516\n",
            "Epoch 77/100\n",
            "250/250 [==============================] - 0s 1ms/step - loss: 0.6446\n",
            "Epoch 78/100\n",
            "250/250 [==============================] - 0s 1ms/step - loss: 0.6461\n",
            "Epoch 79/100\n",
            "250/250 [==============================] - 0s 1ms/step - loss: 0.6572\n",
            "Epoch 80/100\n",
            "250/250 [==============================] - 0s 1ms/step - loss: 0.6490\n",
            "Epoch 81/100\n",
            "250/250 [==============================] - 0s 1ms/step - loss: 0.6456\n",
            "Epoch 82/100\n",
            "250/250 [==============================] - 0s 1ms/step - loss: 0.6504\n",
            "Epoch 83/100\n",
            "250/250 [==============================] - 0s 1ms/step - loss: 0.6468\n",
            "Epoch 84/100\n",
            "250/250 [==============================] - 0s 1ms/step - loss: 0.6497\n",
            "Epoch 85/100\n",
            "250/250 [==============================] - 0s 1ms/step - loss: 0.6426\n",
            "Epoch 86/100\n",
            "250/250 [==============================] - 0s 1ms/step - loss: 0.6530\n",
            "Epoch 87/100\n",
            "250/250 [==============================] - 0s 1ms/step - loss: 0.6363\n",
            "Epoch 88/100\n",
            "250/250 [==============================] - 0s 1ms/step - loss: 0.6479\n",
            "Epoch 89/100\n",
            "250/250 [==============================] - 0s 1ms/step - loss: 0.6443\n",
            "Epoch 90/100\n",
            "250/250 [==============================] - 0s 1ms/step - loss: 0.6215\n",
            "Epoch 91/100\n",
            "250/250 [==============================] - 0s 1ms/step - loss: 0.6296\n",
            "Epoch 92/100\n",
            "250/250 [==============================] - 0s 1ms/step - loss: 0.6497\n",
            "Epoch 93/100\n",
            "250/250 [==============================] - 0s 1ms/step - loss: 0.6326\n",
            "Epoch 94/100\n",
            "250/250 [==============================] - 0s 1ms/step - loss: 0.6347\n",
            "Epoch 95/100\n",
            "250/250 [==============================] - 0s 1ms/step - loss: 0.6295\n",
            "Epoch 96/100\n",
            "250/250 [==============================] - 0s 1ms/step - loss: 0.6240\n",
            "Epoch 97/100\n",
            "250/250 [==============================] - 0s 1ms/step - loss: 0.6453\n",
            "Epoch 98/100\n",
            "250/250 [==============================] - 0s 1ms/step - loss: 0.6351\n",
            "Epoch 99/100\n",
            "250/250 [==============================] - 0s 1ms/step - loss: 0.6112\n",
            "Epoch 100/100\n",
            "250/250 [==============================] - 0s 1ms/step - loss: 0.6229\n"
          ],
          "name": "stdout"
        },
        {
          "output_type": "execute_result",
          "data": {
            "text/plain": [
              "<tensorflow.python.keras.callbacks.History at 0x7fafcbe6f850>"
            ]
          },
          "metadata": {
            "tags": []
          },
          "execution_count": 44
        }
      ]
    },
    {
      "cell_type": "code",
      "metadata": {
        "colab": {
          "base_uri": "https://localhost:8080/",
          "height": 402
        },
        "id": "aetOfEKy5K-N",
        "outputId": "647a3db1-795e-4608-88f6-721f8f2850b5"
      },
      "source": [
        "loss = pd.DataFrame(model.history.history)\r\n",
        "loss"
      ],
      "execution_count": 45,
      "outputs": [
        {
          "output_type": "execute_result",
          "data": {
            "text/html": [
              "<div>\n",
              "<style scoped>\n",
              "    .dataframe tbody tr th:only-of-type {\n",
              "        vertical-align: middle;\n",
              "    }\n",
              "\n",
              "    .dataframe tbody tr th {\n",
              "        vertical-align: top;\n",
              "    }\n",
              "\n",
              "    .dataframe thead th {\n",
              "        text-align: right;\n",
              "    }\n",
              "</style>\n",
              "<table border=\"1\" class=\"dataframe\">\n",
              "  <thead>\n",
              "    <tr style=\"text-align: right;\">\n",
              "      <th></th>\n",
              "      <th>loss</th>\n",
              "    </tr>\n",
              "  </thead>\n",
              "  <tbody>\n",
              "    <tr>\n",
              "      <th>0</th>\n",
              "      <td>1.703909</td>\n",
              "    </tr>\n",
              "    <tr>\n",
              "      <th>1</th>\n",
              "      <td>1.674950</td>\n",
              "    </tr>\n",
              "    <tr>\n",
              "      <th>2</th>\n",
              "      <td>1.645943</td>\n",
              "    </tr>\n",
              "    <tr>\n",
              "      <th>3</th>\n",
              "      <td>1.617571</td>\n",
              "    </tr>\n",
              "    <tr>\n",
              "      <th>4</th>\n",
              "      <td>1.590355</td>\n",
              "    </tr>\n",
              "    <tr>\n",
              "      <th>...</th>\n",
              "      <td>...</td>\n",
              "    </tr>\n",
              "    <tr>\n",
              "      <th>95</th>\n",
              "      <td>0.634370</td>\n",
              "    </tr>\n",
              "    <tr>\n",
              "      <th>96</th>\n",
              "      <td>0.633747</td>\n",
              "    </tr>\n",
              "    <tr>\n",
              "      <th>97</th>\n",
              "      <td>0.633097</td>\n",
              "    </tr>\n",
              "    <tr>\n",
              "      <th>98</th>\n",
              "      <td>0.632466</td>\n",
              "    </tr>\n",
              "    <tr>\n",
              "      <th>99</th>\n",
              "      <td>0.631911</td>\n",
              "    </tr>\n",
              "  </tbody>\n",
              "</table>\n",
              "<p>100 rows × 1 columns</p>\n",
              "</div>"
            ],
            "text/plain": [
              "        loss\n",
              "0   1.703909\n",
              "1   1.674950\n",
              "2   1.645943\n",
              "3   1.617571\n",
              "4   1.590355\n",
              "..       ...\n",
              "95  0.634370\n",
              "96  0.633747\n",
              "97  0.633097\n",
              "98  0.632466\n",
              "99  0.631911\n",
              "\n",
              "[100 rows x 1 columns]"
            ]
          },
          "metadata": {
            "tags": []
          },
          "execution_count": 45
        }
      ]
    },
    {
      "cell_type": "code",
      "metadata": {
        "id": "t4yU9CLy5dj0"
      },
      "source": [
        "#Plotting Loss Graph"
      ],
      "execution_count": 46,
      "outputs": []
    },
    {
      "cell_type": "code",
      "metadata": {
        "colab": {
          "base_uri": "https://localhost:8080/",
          "height": 282
        },
        "id": "4Gg-U1Hm5h4d",
        "outputId": "f1276de7-88e5-423d-d7cc-372ed1b08af1"
      },
      "source": [
        "loss.plot()"
      ],
      "execution_count": 47,
      "outputs": [
        {
          "output_type": "execute_result",
          "data": {
            "text/plain": [
              "<matplotlib.axes._subplots.AxesSubplot at 0x7fafcb544d90>"
            ]
          },
          "metadata": {
            "tags": []
          },
          "execution_count": 47
        },
        {
          "output_type": "display_data",
          "data": {
            "image/png": "[encoded data removed]",
            "text/plain": [
              "<Figure size 432x288 with 1 Axes>"
            ]
          },
          "metadata": {
            "tags": [],
            "needs_background": "light"
          }
        }
      ]
    },
    {
      "cell_type": "code",
      "metadata": {
        "id": "efL5Kdjc5jtO"
      },
      "source": [
        "#As you can see the graph of the loss is slowly decreasing. So this can be possible because of Adam Optimizers"
      ],
      "execution_count": 48,
      "outputs": []
    },
    {
      "cell_type": "code",
      "metadata": {
        "id": "KA9Faz-V5tDm"
      },
      "source": [
        "#Prediction\r\n",
        "# To predict i am just giving random iputs but you can use the right values and it will predict on that case."
      ],
      "execution_count": 49,
      "outputs": []
    },
    {
      "cell_type": "code",
      "metadata": {
        "colab": {
          "base_uri": "https://localhost:8080/"
        },
        "id": "G0X07jwz5z4I",
        "outputId": "67a2e4bb-86f5-41ab-a7ff-0bd613ed0f26"
      },
      "source": [
        "print(\"The employee will  :\", model.predict([[1,2,3,4,5,6,7,8,9,10,11]])[0][0])"
      ],
      "execution_count": 50,
      "outputs": [
        {
          "output_type": "stream",
          "text": [
            "The employee will  : 0.4920172\n"
          ],
          "name": "stdout"
        }
      ]
    },
    {
      "cell_type": "code",
      "metadata": {
        "id": "KV73D3oo54jU"
      },
      "source": [
        ""
      ],
      "execution_count": null,
      "outputs": []
    }
  ]
}