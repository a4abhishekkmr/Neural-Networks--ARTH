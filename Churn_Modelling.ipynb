{
  "nbformat": 4,
  "nbformat_minor": 0,
  "metadata": {
    "colab": {
      "name": "Churn_Modelling.ipynb",
      "provenance": [],
      "collapsed_sections": [],
      "authorship_tag": "ABX9TyNjzy/ImX3AmR7R/RLqUcbp",
      "include_colab_link": true
    },
    "kernelspec": {
      "name": "python3",
      "display_name": "Python 3"
    }
  },
  "cells": [
    {
      "cell_type": "markdown",
      "metadata": {
        "id": "view-in-github",
        "colab_type": "text"
      },
      "source": [
        "<a href=\"https://colab.research.google.com/github/a4abhishekkmr/Neural-Networks--ARTH/blob/master/Churn_Modelling.ipynb\" target=\"_parent\"><img src=\"https://colab.research.google.com/assets/colab-badge.svg\" alt=\"Open In Colab\"/></a>"
      ]
    },
    {
      "cell_type": "code",
      "metadata": {
        "id": "zcWPqGE_rDzc"
      },
      "source": [
        "#Importing pandas"
      ],
      "execution_count": 1,
      "outputs": []
    },
    {
      "cell_type": "code",
      "metadata": {
        "id": "PlffBSGussIi"
      },
      "source": [
        "import pandas as pd"
      ],
      "execution_count": 2,
      "outputs": []
    },
    {
      "cell_type": "code",
      "metadata": {
        "id": "xShaQwFNsusE"
      },
      "source": [
        "#Importing DAtaset"
      ],
      "execution_count": 3,
      "outputs": []
    },
    {
      "cell_type": "code",
      "metadata": {
        "id": "PQPdMzD0syDZ"
      },
      "source": [
        "dataset=pd.read_csv(\"/content/sample_data/Churn_Modelling.csv\")"
      ],
      "execution_count": 4,
      "outputs": []
    },
    {
      "cell_type": "code",
      "metadata": {
        "colab": {
          "base_uri": "https://localhost:8080/",
          "height": 402
        },
        "id": "hT2ciODCtAqi",
        "outputId": "f0740c4e-5767-4e35-bc96-0b0406a7fd14"
      },
      "source": [
        "dataset"
      ],
      "execution_count": 5,
      "outputs": [
        {
          "output_type": "execute_result",
          "data": {
            "text/html": [
              "<div>\n",
              "<style scoped>\n",
              "    .dataframe tbody tr th:only-of-type {\n",
              "        vertical-align: middle;\n",
              "    }\n",
              "\n",
              "    .dataframe tbody tr th {\n",
              "        vertical-align: top;\n",
              "    }\n",
              "\n",
              "    .dataframe thead th {\n",
              "        text-align: right;\n",
              "    }\n",
              "</style>\n",
              "<table border=\"1\" class=\"dataframe\">\n",
              "  <thead>\n",
              "    <tr style=\"text-align: right;\">\n",
              "      <th></th>\n",
              "      <th>RowNumber</th>\n",
              "      <th>CustomerId</th>\n",
              "      <th>Surname</th>\n",
              "      <th>CreditScore</th>\n",
              "      <th>Geography</th>\n",
              "      <th>Gender</th>\n",
              "      <th>Age</th>\n",
              "      <th>Tenure</th>\n",
              "      <th>Balance</th>\n",
              "      <th>NumOfProducts</th>\n",
              "      <th>HasCrCard</th>\n",
              "      <th>IsActiveMember</th>\n",
              "      <th>EstimatedSalary</th>\n",
              "      <th>Exited</th>\n",
              "    </tr>\n",
              "  </thead>\n",
              "  <tbody>\n",
              "    <tr>\n",
              "      <th>0</th>\n",
              "      <td>1</td>\n",
              "      <td>15634602</td>\n",
              "      <td>Hargrave</td>\n",
              "      <td>619</td>\n",
              "      <td>France</td>\n",
              "      <td>Female</td>\n",
              "      <td>42</td>\n",
              "      <td>2</td>\n",
              "      <td>0.00</td>\n",
              "      <td>1</td>\n",
              "      <td>1</td>\n",
              "      <td>1</td>\n",
              "      <td>101348.88</td>\n",
              "      <td>1</td>\n",
              "    </tr>\n",
              "    <tr>\n",
              "      <th>1</th>\n",
              "      <td>2</td>\n",
              "      <td>15647311</td>\n",
              "      <td>Hill</td>\n",
              "      <td>608</td>\n",
              "      <td>Spain</td>\n",
              "      <td>Female</td>\n",
              "      <td>41</td>\n",
              "      <td>1</td>\n",
              "      <td>83807.86</td>\n",
              "      <td>1</td>\n",
              "      <td>0</td>\n",
              "      <td>1</td>\n",
              "      <td>112542.58</td>\n",
              "      <td>0</td>\n",
              "    </tr>\n",
              "    <tr>\n",
              "      <th>2</th>\n",
              "      <td>3</td>\n",
              "      <td>15619304</td>\n",
              "      <td>Onio</td>\n",
              "      <td>502</td>\n",
              "      <td>France</td>\n",
              "      <td>Female</td>\n",
              "      <td>42</td>\n",
              "      <td>8</td>\n",
              "      <td>159660.80</td>\n",
              "      <td>3</td>\n",
              "      <td>1</td>\n",
              "      <td>0</td>\n",
              "      <td>113931.57</td>\n",
              "      <td>1</td>\n",
              "    </tr>\n",
              "    <tr>\n",
              "      <th>3</th>\n",
              "      <td>4</td>\n",
              "      <td>15701354</td>\n",
              "      <td>Boni</td>\n",
              "      <td>699</td>\n",
              "      <td>France</td>\n",
              "      <td>Female</td>\n",
              "      <td>39</td>\n",
              "      <td>1</td>\n",
              "      <td>0.00</td>\n",
              "      <td>2</td>\n",
              "      <td>0</td>\n",
              "      <td>0</td>\n",
              "      <td>93826.63</td>\n",
              "      <td>0</td>\n",
              "    </tr>\n",
              "    <tr>\n",
              "      <th>4</th>\n",
              "      <td>5</td>\n",
              "      <td>15737888</td>\n",
              "      <td>Mitchell</td>\n",
              "      <td>850</td>\n",
              "      <td>Spain</td>\n",
              "      <td>Female</td>\n",
              "      <td>43</td>\n",
              "      <td>2</td>\n",
              "      <td>125510.82</td>\n",
              "      <td>1</td>\n",
              "      <td>1</td>\n",
              "      <td>1</td>\n",
              "      <td>79084.10</td>\n",
              "      <td>0</td>\n",
              "    </tr>\n",
              "    <tr>\n",
              "      <th>...</th>\n",
              "      <td>...</td>\n",
              "      <td>...</td>\n",
              "      <td>...</td>\n",
              "      <td>...</td>\n",
              "      <td>...</td>\n",
              "      <td>...</td>\n",
              "      <td>...</td>\n",
              "      <td>...</td>\n",
              "      <td>...</td>\n",
              "      <td>...</td>\n",
              "      <td>...</td>\n",
              "      <td>...</td>\n",
              "      <td>...</td>\n",
              "      <td>...</td>\n",
              "    </tr>\n",
              "    <tr>\n",
              "      <th>9995</th>\n",
              "      <td>9996</td>\n",
              "      <td>15606229</td>\n",
              "      <td>Obijiaku</td>\n",
              "      <td>771</td>\n",
              "      <td>France</td>\n",
              "      <td>Male</td>\n",
              "      <td>39</td>\n",
              "      <td>5</td>\n",
              "      <td>0.00</td>\n",
              "      <td>2</td>\n",
              "      <td>1</td>\n",
              "      <td>0</td>\n",
              "      <td>96270.64</td>\n",
              "      <td>0</td>\n",
              "    </tr>\n",
              "    <tr>\n",
              "      <th>9996</th>\n",
              "      <td>9997</td>\n",
              "      <td>15569892</td>\n",
              "      <td>Johnstone</td>\n",
              "      <td>516</td>\n",
              "      <td>France</td>\n",
              "      <td>Male</td>\n",
              "      <td>35</td>\n",
              "      <td>10</td>\n",
              "      <td>57369.61</td>\n",
              "      <td>1</td>\n",
              "      <td>1</td>\n",
              "      <td>1</td>\n",
              "      <td>101699.77</td>\n",
              "      <td>0</td>\n",
              "    </tr>\n",
              "    <tr>\n",
              "      <th>9997</th>\n",
              "      <td>9998</td>\n",
              "      <td>15584532</td>\n",
              "      <td>Liu</td>\n",
              "      <td>709</td>\n",
              "      <td>France</td>\n",
              "      <td>Female</td>\n",
              "      <td>36</td>\n",
              "      <td>7</td>\n",
              "      <td>0.00</td>\n",
              "      <td>1</td>\n",
              "      <td>0</td>\n",
              "      <td>1</td>\n",
              "      <td>42085.58</td>\n",
              "      <td>1</td>\n",
              "    </tr>\n",
              "    <tr>\n",
              "      <th>9998</th>\n",
              "      <td>9999</td>\n",
              "      <td>15682355</td>\n",
              "      <td>Sabbatini</td>\n",
              "      <td>772</td>\n",
              "      <td>Germany</td>\n",
              "      <td>Male</td>\n",
              "      <td>42</td>\n",
              "      <td>3</td>\n",
              "      <td>75075.31</td>\n",
              "      <td>2</td>\n",
              "      <td>1</td>\n",
              "      <td>0</td>\n",
              "      <td>92888.52</td>\n",
              "      <td>1</td>\n",
              "    </tr>\n",
              "    <tr>\n",
              "      <th>9999</th>\n",
              "      <td>10000</td>\n",
              "      <td>15628319</td>\n",
              "      <td>Walker</td>\n",
              "      <td>792</td>\n",
              "      <td>France</td>\n",
              "      <td>Female</td>\n",
              "      <td>28</td>\n",
              "      <td>4</td>\n",
              "      <td>130142.79</td>\n",
              "      <td>1</td>\n",
              "      <td>1</td>\n",
              "      <td>0</td>\n",
              "      <td>38190.78</td>\n",
              "      <td>0</td>\n",
              "    </tr>\n",
              "  </tbody>\n",
              "</table>\n",
              "<p>10000 rows × 14 columns</p>\n",
              "</div>"
            ],
            "text/plain": [
              "      RowNumber  CustomerId    Surname  ...  IsActiveMember EstimatedSalary Exited\n",
              "0             1    15634602   Hargrave  ...               1       101348.88      1\n",
              "1             2    15647311       Hill  ...               1       112542.58      0\n",
              "2             3    15619304       Onio  ...               0       113931.57      1\n",
              "3             4    15701354       Boni  ...               0        93826.63      0\n",
              "4             5    15737888   Mitchell  ...               1        79084.10      0\n",
              "...         ...         ...        ...  ...             ...             ...    ...\n",
              "9995       9996    15606229   Obijiaku  ...               0        96270.64      0\n",
              "9996       9997    15569892  Johnstone  ...               1       101699.77      0\n",
              "9997       9998    15584532        Liu  ...               1        42085.58      1\n",
              "9998       9999    15682355  Sabbatini  ...               0        92888.52      1\n",
              "9999      10000    15628319     Walker  ...               0        38190.78      0\n",
              "\n",
              "[10000 rows x 14 columns]"
            ]
          },
          "metadata": {
            "tags": []
          },
          "execution_count": 5
        }
      ]
    },
    {
      "cell_type": "code",
      "metadata": {
        "colab": {
          "base_uri": "https://localhost:8080/"
        },
        "id": "-1suUaaStBoF",
        "outputId": "e123cb52-5f4b-44e2-9557-82e4fd148738"
      },
      "source": [
        "dataset.columns"
      ],
      "execution_count": 6,
      "outputs": [
        {
          "output_type": "execute_result",
          "data": {
            "text/plain": [
              "Index(['RowNumber', 'CustomerId', 'Surname', 'CreditScore', 'Geography',\n",
              "       'Gender', 'Age', 'Tenure', 'Balance', 'NumOfProducts', 'HasCrCard',\n",
              "       'IsActiveMember', 'EstimatedSalary', 'Exited'],\n",
              "      dtype='object')"
            ]
          },
          "metadata": {
            "tags": []
          },
          "execution_count": 6
        }
      ]
    },
    {
      "cell_type": "code",
      "metadata": {
        "id": "94M6on3FtF6E"
      },
      "source": [
        "y = dataset['Exited']"
      ],
      "execution_count": 7,
      "outputs": []
    },
    {
      "cell_type": "code",
      "metadata": {
        "colab": {
          "base_uri": "https://localhost:8080/"
        },
        "id": "h8-flmQdtIFg",
        "outputId": "0cee2c8f-0577-4a4d-dac6-4c5fac75bcd6"
      },
      "source": [
        "\r\n",
        "X = dataset[['CreditScore', 'Age', 'Tenure', 'Balance', 'NumOfProducts', 'HasCrCard',\r\n",
        "                  'IsActiveMember', 'EstimatedSalary']]\r\n",
        "X.shape"
      ],
      "execution_count": 8,
      "outputs": [
        {
          "output_type": "execute_result",
          "data": {
            "text/plain": [
              "(10000, 8)"
            ]
          },
          "metadata": {
            "tags": []
          },
          "execution_count": 8
        }
      ]
    },
    {
      "cell_type": "code",
      "metadata": {
        "id": "1cKWRifxtK7E"
      },
      "source": [
        "#One Hot Encoding For Geography Feature"
      ],
      "execution_count": 9,
      "outputs": []
    },
    {
      "cell_type": "code",
      "metadata": {
        "colab": {
          "base_uri": "https://localhost:8080/",
          "height": 402
        },
        "id": "dDpVhE_GtN2x",
        "outputId": "1ba03a89-4335-4525-a6f6-6590567b1931"
      },
      "source": [
        "Geo = pd.get_dummies(dataset['Geography'], drop_first=True)\r\n",
        "Geo"
      ],
      "execution_count": 10,
      "outputs": [
        {
          "output_type": "execute_result",
          "data": {
            "text/html": [
              "<div>\n",
              "<style scoped>\n",
              "    .dataframe tbody tr th:only-of-type {\n",
              "        vertical-align: middle;\n",
              "    }\n",
              "\n",
              "    .dataframe tbody tr th {\n",
              "        vertical-align: top;\n",
              "    }\n",
              "\n",
              "    .dataframe thead th {\n",
              "        text-align: right;\n",
              "    }\n",
              "</style>\n",
              "<table border=\"1\" class=\"dataframe\">\n",
              "  <thead>\n",
              "    <tr style=\"text-align: right;\">\n",
              "      <th></th>\n",
              "      <th>Germany</th>\n",
              "      <th>Spain</th>\n",
              "    </tr>\n",
              "  </thead>\n",
              "  <tbody>\n",
              "    <tr>\n",
              "      <th>0</th>\n",
              "      <td>0</td>\n",
              "      <td>0</td>\n",
              "    </tr>\n",
              "    <tr>\n",
              "      <th>1</th>\n",
              "      <td>0</td>\n",
              "      <td>1</td>\n",
              "    </tr>\n",
              "    <tr>\n",
              "      <th>2</th>\n",
              "      <td>0</td>\n",
              "      <td>0</td>\n",
              "    </tr>\n",
              "    <tr>\n",
              "      <th>3</th>\n",
              "      <td>0</td>\n",
              "      <td>0</td>\n",
              "    </tr>\n",
              "    <tr>\n",
              "      <th>4</th>\n",
              "      <td>0</td>\n",
              "      <td>1</td>\n",
              "    </tr>\n",
              "    <tr>\n",
              "      <th>...</th>\n",
              "      <td>...</td>\n",
              "      <td>...</td>\n",
              "    </tr>\n",
              "    <tr>\n",
              "      <th>9995</th>\n",
              "      <td>0</td>\n",
              "      <td>0</td>\n",
              "    </tr>\n",
              "    <tr>\n",
              "      <th>9996</th>\n",
              "      <td>0</td>\n",
              "      <td>0</td>\n",
              "    </tr>\n",
              "    <tr>\n",
              "      <th>9997</th>\n",
              "      <td>0</td>\n",
              "      <td>0</td>\n",
              "    </tr>\n",
              "    <tr>\n",
              "      <th>9998</th>\n",
              "      <td>1</td>\n",
              "      <td>0</td>\n",
              "    </tr>\n",
              "    <tr>\n",
              "      <th>9999</th>\n",
              "      <td>0</td>\n",
              "      <td>0</td>\n",
              "    </tr>\n",
              "  </tbody>\n",
              "</table>\n",
              "<p>10000 rows × 2 columns</p>\n",
              "</div>"
            ],
            "text/plain": [
              "      Germany  Spain\n",
              "0           0      0\n",
              "1           0      1\n",
              "2           0      0\n",
              "3           0      0\n",
              "4           0      1\n",
              "...       ...    ...\n",
              "9995        0      0\n",
              "9996        0      0\n",
              "9997        0      0\n",
              "9998        1      0\n",
              "9999        0      0\n",
              "\n",
              "[10000 rows x 2 columns]"
            ]
          },
          "metadata": {
            "tags": []
          },
          "execution_count": 10
        }
      ]
    },
    {
      "cell_type": "code",
      "metadata": {
        "id": "2US_nWNduAz7"
      },
      "source": [
        "#One Hot Encoding For Gender Feature"
      ],
      "execution_count": 11,
      "outputs": []
    },
    {
      "cell_type": "code",
      "metadata": {
        "colab": {
          "base_uri": "https://localhost:8080/",
          "height": 402
        },
        "id": "U8SLXYuhuFDX",
        "outputId": "5687208e-6d81-43e0-d89c-1f51a7810baf"
      },
      "source": [
        "Gender = pd.get_dummies(dataset['Gender'], drop_first=True)\r\n",
        "Gender"
      ],
      "execution_count": 12,
      "outputs": [
        {
          "output_type": "execute_result",
          "data": {
            "text/html": [
              "<div>\n",
              "<style scoped>\n",
              "    .dataframe tbody tr th:only-of-type {\n",
              "        vertical-align: middle;\n",
              "    }\n",
              "\n",
              "    .dataframe tbody tr th {\n",
              "        vertical-align: top;\n",
              "    }\n",
              "\n",
              "    .dataframe thead th {\n",
              "        text-align: right;\n",
              "    }\n",
              "</style>\n",
              "<table border=\"1\" class=\"dataframe\">\n",
              "  <thead>\n",
              "    <tr style=\"text-align: right;\">\n",
              "      <th></th>\n",
              "      <th>Male</th>\n",
              "    </tr>\n",
              "  </thead>\n",
              "  <tbody>\n",
              "    <tr>\n",
              "      <th>0</th>\n",
              "      <td>0</td>\n",
              "    </tr>\n",
              "    <tr>\n",
              "      <th>1</th>\n",
              "      <td>0</td>\n",
              "    </tr>\n",
              "    <tr>\n",
              "      <th>2</th>\n",
              "      <td>0</td>\n",
              "    </tr>\n",
              "    <tr>\n",
              "      <th>3</th>\n",
              "      <td>0</td>\n",
              "    </tr>\n",
              "    <tr>\n",
              "      <th>4</th>\n",
              "      <td>0</td>\n",
              "    </tr>\n",
              "    <tr>\n",
              "      <th>...</th>\n",
              "      <td>...</td>\n",
              "    </tr>\n",
              "    <tr>\n",
              "      <th>9995</th>\n",
              "      <td>1</td>\n",
              "    </tr>\n",
              "    <tr>\n",
              "      <th>9996</th>\n",
              "      <td>1</td>\n",
              "    </tr>\n",
              "    <tr>\n",
              "      <th>9997</th>\n",
              "      <td>0</td>\n",
              "    </tr>\n",
              "    <tr>\n",
              "      <th>9998</th>\n",
              "      <td>1</td>\n",
              "    </tr>\n",
              "    <tr>\n",
              "      <th>9999</th>\n",
              "      <td>0</td>\n",
              "    </tr>\n",
              "  </tbody>\n",
              "</table>\n",
              "<p>10000 rows × 1 columns</p>\n",
              "</div>"
            ],
            "text/plain": [
              "      Male\n",
              "0        0\n",
              "1        0\n",
              "2        0\n",
              "3        0\n",
              "4        0\n",
              "...    ...\n",
              "9995     1\n",
              "9996     1\n",
              "9997     0\n",
              "9998     1\n",
              "9999     0\n",
              "\n",
              "[10000 rows x 1 columns]"
            ]
          },
          "metadata": {
            "tags": []
          },
          "execution_count": 12
        }
      ]
    },
    {
      "cell_type": "code",
      "metadata": {
        "colab": {
          "base_uri": "https://localhost:8080/"
        },
        "id": "ZJydXRltuG-N",
        "outputId": "17b78640-8073-4f6b-cb2b-7194bfeb92e9"
      },
      "source": [
        "X = pd.concat([X, Geo, Gender], axis=1)\r\n",
        "X.shape"
      ],
      "execution_count": 13,
      "outputs": [
        {
          "output_type": "execute_result",
          "data": {
            "text/plain": [
              "(10000, 11)"
            ]
          },
          "metadata": {
            "tags": []
          },
          "execution_count": 13
        }
      ]
    },
    {
      "cell_type": "code",
      "metadata": {
        "id": "vkAbNDtmuR2G"
      },
      "source": [
        "#importing train_test_split\r\n",
        "\r\n",
        "#Before feeding your data into the neural network you need to split that data into training set and testing set. this can be done using\r\n",
        "\r\n",
        "#train_test_split method from sklearn library and from model_selection module"
      ],
      "execution_count": 14,
      "outputs": []
    },
    {
      "cell_type": "code",
      "metadata": {
        "id": "_o1EAM7HuYgs"
      },
      "source": [
        "from sklearn.model_selection import train_test_split\r\n",
        "X_train, X_test, y_train, y_test = train_test_split(X,y, test_size=0.20, random_state=40)"
      ],
      "execution_count": 15,
      "outputs": []
    },
    {
      "cell_type": "code",
      "metadata": {
        "id": "11lyj2Ujubjo"
      },
      "source": [
        "\r\n",
        "#importing Sequrntial Model From keras\r\n"
      ],
      "execution_count": 16,
      "outputs": []
    },
    {
      "cell_type": "code",
      "metadata": {
        "id": "L3tDueCSuj6P"
      },
      "source": [
        "from keras.models import Sequential\r\n",
        "model = Sequential()            # creating Empty model"
      ],
      "execution_count": 17,
      "outputs": []
    },
    {
      "cell_type": "code",
      "metadata": {
        "id": "jhmvCXzWvEBP"
      },
      "source": [
        "#Importing Dense Layer"
      ],
      "execution_count": 18,
      "outputs": []
    },
    {
      "cell_type": "code",
      "metadata": {
        "id": "GZEH2CvAvKPu"
      },
      "source": [
        "from keras.layers import Dense"
      ],
      "execution_count": 19,
      "outputs": []
    },
    {
      "cell_type": "code",
      "metadata": {
        "id": "w-5fRTRpvMkW"
      },
      "source": [
        "#Adding First Layer to model with neurons=8, input_feature=11 and activation fn = relu (rectified linear unit)"
      ],
      "execution_count": 20,
      "outputs": []
    },
    {
      "cell_type": "code",
      "metadata": {
        "id": "4ksMxyHqvS1k"
      },
      "source": [
        "#1st layer\r\n",
        "model.add(Dense(units=8, activation='relu', input_dim=11))"
      ],
      "execution_count": 21,
      "outputs": []
    },
    {
      "cell_type": "code",
      "metadata": {
        "id": "DwYa7UqBvVHs"
      },
      "source": [
        "#Relu is an activation function i.e its will activate the neurons in the hidden layers. The main functions of relu is that all the output from a layers from all the neuron will pass to another layers of the respective neurons."
      ],
      "execution_count": 22,
      "outputs": []
    },
    {
      "cell_type": "code",
      "metadata": {
        "id": "SiCpM_WH1iKJ"
      },
      "source": [
        "#Adding Second Layer with neurons=6 and activation fn = relu"
      ],
      "execution_count": 23,
      "outputs": []
    },
    {
      "cell_type": "code",
      "metadata": {
        "id": "4zcoJtpf1vzD"
      },
      "source": [
        "model.add(Dense(units=6, activation='relu'))"
      ],
      "execution_count": 24,
      "outputs": []
    },
    {
      "cell_type": "code",
      "metadata": {
        "id": "gvWxxH_Y1yQ-"
      },
      "source": [
        "#Adding third layer with neurons=6 and activation fn = relu"
      ],
      "execution_count": 25,
      "outputs": []
    },
    {
      "cell_type": "code",
      "metadata": {
        "id": "jvkqoCCi11tQ"
      },
      "source": [
        "model.add(Dense(units=6, activation='relu'))"
      ],
      "execution_count": 26,
      "outputs": []
    },
    {
      "cell_type": "code",
      "metadata": {
        "id": "jCDukVOr14Ny"
      },
      "source": [
        "#Adding last layer with neurons=1 and activation fn = relu"
      ],
      "execution_count": 27,
      "outputs": []
    },
    {
      "cell_type": "code",
      "metadata": {
        "id": "d_2iPAC42Hzt"
      },
      "source": [
        "model.add(Dense(units=1, activation='sigmoid'))"
      ],
      "execution_count": 28,
      "outputs": []
    },
    {
      "cell_type": "code",
      "metadata": {
        "colab": {
          "base_uri": "https://localhost:8080/"
        },
        "id": "dEBnFC8L2QRK",
        "outputId": "ccec9d11-136a-4f1a-8316-a77a89aea174"
      },
      "source": [
        "model.get_config()"
      ],
      "execution_count": 29,
      "outputs": [
        {
          "output_type": "execute_result",
          "data": {
            "text/plain": [
              "{'layers': [{'class_name': 'InputLayer',\n",
              "   'config': {'batch_input_shape': (None, 11),\n",
              "    'dtype': 'float32',\n",
              "    'name': 'dense_input',\n",
              "    'ragged': False,\n",
              "    'sparse': False}},\n",
              "  {'class_name': 'Dense',\n",
              "   'config': {'activation': 'relu',\n",
              "    'activity_regularizer': None,\n",
              "    'batch_input_shape': (None, 11),\n",
              "    'bias_constraint': None,\n",
              "    'bias_initializer': {'class_name': 'Zeros', 'config': {}},\n",
              "    'bias_regularizer': None,\n",
              "    'dtype': 'float32',\n",
              "    'kernel_constraint': None,\n",
              "    'kernel_initializer': {'class_name': 'GlorotUniform',\n",
              "     'config': {'seed': None}},\n",
              "    'kernel_regularizer': None,\n",
              "    'name': 'dense',\n",
              "    'trainable': True,\n",
              "    'units': 8,\n",
              "    'use_bias': True}},\n",
              "  {'class_name': 'Dense',\n",
              "   'config': {'activation': 'relu',\n",
              "    'activity_regularizer': None,\n",
              "    'bias_constraint': None,\n",
              "    'bias_initializer': {'class_name': 'Zeros', 'config': {}},\n",
              "    'bias_regularizer': None,\n",
              "    'dtype': 'float32',\n",
              "    'kernel_constraint': None,\n",
              "    'kernel_initializer': {'class_name': 'GlorotUniform',\n",
              "     'config': {'seed': None}},\n",
              "    'kernel_regularizer': None,\n",
              "    'name': 'dense_1',\n",
              "    'trainable': True,\n",
              "    'units': 6,\n",
              "    'use_bias': True}},\n",
              "  {'class_name': 'Dense',\n",
              "   'config': {'activation': 'relu',\n",
              "    'activity_regularizer': None,\n",
              "    'bias_constraint': None,\n",
              "    'bias_initializer': {'class_name': 'Zeros', 'config': {}},\n",
              "    'bias_regularizer': None,\n",
              "    'dtype': 'float32',\n",
              "    'kernel_constraint': None,\n",
              "    'kernel_initializer': {'class_name': 'GlorotUniform',\n",
              "     'config': {'seed': None}},\n",
              "    'kernel_regularizer': None,\n",
              "    'name': 'dense_2',\n",
              "    'trainable': True,\n",
              "    'units': 6,\n",
              "    'use_bias': True}},\n",
              "  {'class_name': 'Dense',\n",
              "   'config': {'activation': 'sigmoid',\n",
              "    'activity_regularizer': None,\n",
              "    'bias_constraint': None,\n",
              "    'bias_initializer': {'class_name': 'Zeros', 'config': {}},\n",
              "    'bias_regularizer': None,\n",
              "    'dtype': 'float32',\n",
              "    'kernel_constraint': None,\n",
              "    'kernel_initializer': {'class_name': 'GlorotUniform',\n",
              "     'config': {'seed': None}},\n",
              "    'kernel_regularizer': None,\n",
              "    'name': 'dense_3',\n",
              "    'trainable': True,\n",
              "    'units': 1,\n",
              "    'use_bias': True}}],\n",
              " 'name': 'sequential'}"
            ]
          },
          "metadata": {
            "tags": []
          },
          "execution_count": 29
        }
      ]
    },
    {
      "cell_type": "code",
      "metadata": {
        "colab": {
          "base_uri": "https://localhost:8080/"
        },
        "id": "sO-P5cnL2Vyp",
        "outputId": "dfdb2d45-52a2-46af-946b-ba217738a17d"
      },
      "source": [
        "model.summary()"
      ],
      "execution_count": 30,
      "outputs": [
        {
          "output_type": "stream",
          "text": [
            "Model: \"sequential\"\n",
            "_________________________________________________________________\n",
            "Layer (type)                 Output Shape              Param #   \n",
            "=================================================================\n",
            "dense (Dense)                (None, 8)                 96        \n",
            "_________________________________________________________________\n",
            "dense_1 (Dense)              (None, 6)                 54        \n",
            "_________________________________________________________________\n",
            "dense_2 (Dense)              (None, 6)                 42        \n",
            "_________________________________________________________________\n",
            "dense_3 (Dense)              (None, 1)                 7         \n",
            "=================================================================\n",
            "Total params: 199\n",
            "Trainable params: 199\n",
            "Non-trainable params: 0\n",
            "_________________________________________________________________\n"
          ],
          "name": "stdout"
        }
      ]
    },
    {
      "cell_type": "code",
      "metadata": {
        "id": "_JM263ft2cx_"
      },
      "source": [
        "#Now"
      ],
      "execution_count": 31,
      "outputs": []
    },
    {
      "cell_type": "code",
      "metadata": {
        "id": "TKWs3rMt4UrQ"
      },
      "source": [
        "from keras.optimizers import Adam"
      ],
      "execution_count": 32,
      "outputs": []
    },
    {
      "cell_type": "code",
      "metadata": {
        "id": "DO5qi6ec4YFC"
      },
      "source": [
        "#As i have only one output that whether the Employee is exited from the company or not. i.e Binary output (Exited/notexited). So the loss will be generating in binary. To handle the binary loss we have binary_crossentropy."
      ],
      "execution_count": 33,
      "outputs": []
    },
    {
      "cell_type": "code",
      "metadata": {
        "id": "KkOBirpS4dNK"
      },
      "source": [
        "model.compile(loss='binary_crossentropy', optimizer=Adam(learning_rate=0.000001))"
      ],
      "execution_count": 34,
      "outputs": []
    },
    {
      "cell_type": "code",
      "metadata": {
        "colab": {
          "base_uri": "https://localhost:8080/"
        },
        "id": "Ve5oUWqV46v9",
        "outputId": "04575dcc-035b-479c-db77-4a1add418e69"
      },
      "source": [
        "model.get_weights()"
      ],
      "execution_count": 35,
      "outputs": [
        {
          "output_type": "execute_result",
          "data": {
            "text/plain": [
              "[array([[-0.01122618, -0.27259758, -0.04980361, -0.32155228,  0.16834158,\n",
              "         -0.32384655, -0.26104826,  0.22258526],\n",
              "        [-0.190445  ,  0.23211938, -0.213952  , -0.24173388, -0.4188779 ,\n",
              "          0.04647636, -0.3447057 , -0.3795151 ],\n",
              "        [ 0.0403927 ,  0.03649354, -0.04383332,  0.11914742,  0.45599884,\n",
              "          0.38764286,  0.4741444 , -0.0342657 ],\n",
              "        [-0.26526594,  0.45089334, -0.07035112, -0.20439857,  0.01313901,\n",
              "         -0.44290423,  0.38648206, -0.13656855],\n",
              "        [ 0.2676375 ,  0.18263263,  0.38463515, -0.5407284 ,  0.4608205 ,\n",
              "          0.48152524,  0.14747465, -0.06098926],\n",
              "        [ 0.15654308, -0.15882272,  0.11433089, -0.02524287,  0.5615036 ,\n",
              "          0.11190426,  0.2362209 ,  0.10822004],\n",
              "        [-0.28163812, -0.1610327 ,  0.5461889 ,  0.54460984, -0.37835616,\n",
              "         -0.18736696, -0.55536085, -0.46753237],\n",
              "        [ 0.5614889 , -0.22366044,  0.4973908 , -0.54318804,  0.44324583,\n",
              "          0.40560216,  0.03605354, -0.33270848],\n",
              "        [-0.323609  ,  0.05173934,  0.18378085, -0.17904776,  0.40180582,\n",
              "         -0.08559343,  0.35066152, -0.3728646 ],\n",
              "        [ 0.28817832,  0.05240774, -0.3086929 , -0.5146306 , -0.08288801,\n",
              "         -0.16328505,  0.04871154,  0.29464406],\n",
              "        [-0.50653064, -0.35515088,  0.47740632,  0.28968817,  0.09282297,\n",
              "          0.4310571 , -0.5408427 ,  0.13188863]], dtype=float32),\n",
              " array([0., 0., 0., 0., 0., 0., 0., 0.], dtype=float32),\n",
              " array([[-0.13641483, -0.4774241 ,  0.6499069 ,  0.27587998, -0.15145987,\n",
              "         -0.11071008],\n",
              "        [ 0.44092095, -0.19910347,  0.33916295, -0.5751599 , -0.21898982,\n",
              "         -0.48754787],\n",
              "        [-0.49943864, -0.39882234, -0.35017687,  0.44732988,  0.25244385,\n",
              "          0.20729244],\n",
              "        [-0.03336382, -0.14759123, -0.6142274 , -0.23458159, -0.62230605,\n",
              "         -0.5678444 ],\n",
              "        [ 0.4449154 ,  0.32459277, -0.25802052,  0.28261912,  0.13485152,\n",
              "         -0.52612966],\n",
              "        [ 0.489205  , -0.17743668, -0.3057618 , -0.09315634, -0.06218588,\n",
              "          0.42256117],\n",
              "        [-0.19820476, -0.16911784, -0.5689199 , -0.27878484,  0.46501124,\n",
              "          0.00861275],\n",
              "        [ 0.45161712,  0.21807593, -0.12298357,  0.44813597,  0.05048382,\n",
              "          0.2095077 ]], dtype=float32),\n",
              " array([0., 0., 0., 0., 0., 0.], dtype=float32),\n",
              " array([[ 0.26263154, -0.1367591 , -0.09834224,  0.65902466, -0.46644676,\n",
              "         -0.19979829],\n",
              "        [ 0.3335845 , -0.6225747 , -0.10286039, -0.5328459 , -0.19389015,\n",
              "         -0.42086494],\n",
              "        [ 0.09086537, -0.4712783 ,  0.5067329 ,  0.42668504,  0.40030068,\n",
              "          0.04378265],\n",
              "        [ 0.57171446,  0.22411954, -0.6255417 ,  0.00778759, -0.5414317 ,\n",
              "         -0.67661977],\n",
              "        [ 0.3220994 , -0.6138385 , -0.09944665, -0.3018321 ,  0.11227196,\n",
              "         -0.67828304],\n",
              "        [ 0.4507951 ,  0.44812566, -0.5687093 ,  0.62932473,  0.24948335,\n",
              "         -0.26040852]], dtype=float32),\n",
              " array([0., 0., 0., 0., 0., 0.], dtype=float32),\n",
              " array([[-0.42988622],\n",
              "        [ 0.01164275],\n",
              "        [-0.66532415],\n",
              "        [-0.89643264],\n",
              "        [-0.19115168],\n",
              "        [ 0.87301064]], dtype=float32),\n",
              " array([0.], dtype=float32)]"
            ]
          },
          "metadata": {
            "tags": []
          },
          "execution_count": 35
        }
      ]
    },
    {
      "cell_type": "code",
      "metadata": {
        "id": "jMf4cxJy4_AX"
      },
      "source": [
        "#For training the model we need to fit the model and it require training data i.e X_train, y_train. And the epochs is 100. That means your training data will goes 100 times through the neural network which you have build above with the respective layers."
      ],
      "execution_count": 36,
      "outputs": []
    },
    {
      "cell_type": "code",
      "metadata": {
        "colab": {
          "base_uri": "https://localhost:8080/"
        },
        "id": "KGDq4wpe5INb",
        "outputId": "178a8441-3b53-4487-e279-4ce5aebd3321"
      },
      "source": [
        "model.fit(X_train, y_train, epochs=100)"
      ],
      "execution_count": 37,
      "outputs": [
        {
          "output_type": "stream",
          "text": [
            "Epoch 1/100\n",
            "250/250 [==============================] - 1s 1ms/step - loss: 2415.1622\n",
            "Epoch 2/100\n",
            "250/250 [==============================] - 0s 1ms/step - loss: 2481.0863\n",
            "Epoch 3/100\n",
            "250/250 [==============================] - 0s 995us/step - loss: 2387.8070\n",
            "Epoch 4/100\n",
            "250/250 [==============================] - 0s 1ms/step - loss: 2463.6774\n",
            "Epoch 5/100\n",
            "250/250 [==============================] - 0s 1ms/step - loss: 2352.3323\n",
            "Epoch 6/100\n",
            "250/250 [==============================] - 0s 1ms/step - loss: 2298.7175\n",
            "Epoch 7/100\n",
            "250/250 [==============================] - 0s 1ms/step - loss: 2373.9990\n",
            "Epoch 8/100\n",
            "250/250 [==============================] - 0s 1ms/step - loss: 2306.7440\n",
            "Epoch 9/100\n",
            "250/250 [==============================] - 0s 1ms/step - loss: 2328.8472\n",
            "Epoch 10/100\n",
            "250/250 [==============================] - 0s 1ms/step - loss: 2338.2959\n",
            "Epoch 11/100\n",
            "250/250 [==============================] - 0s 1000us/step - loss: 2428.2714\n",
            "Epoch 12/100\n",
            "250/250 [==============================] - 0s 1ms/step - loss: 2308.1179\n",
            "Epoch 13/100\n",
            "250/250 [==============================] - 0s 1ms/step - loss: 2368.4682\n",
            "Epoch 14/100\n",
            "250/250 [==============================] - 0s 1ms/step - loss: 2351.9371\n",
            "Epoch 15/100\n",
            "250/250 [==============================] - 0s 974us/step - loss: 2247.1146\n",
            "Epoch 16/100\n",
            "250/250 [==============================] - 0s 978us/step - loss: 2329.5862\n",
            "Epoch 17/100\n",
            "250/250 [==============================] - 0s 1ms/step - loss: 2294.6376\n",
            "Epoch 18/100\n",
            "250/250 [==============================] - 0s 1ms/step - loss: 2237.7817\n",
            "Epoch 19/100\n",
            "250/250 [==============================] - 0s 971us/step - loss: 2324.1396\n",
            "Epoch 20/100\n",
            "250/250 [==============================] - 0s 1ms/step - loss: 2244.4008\n",
            "Epoch 21/100\n",
            "250/250 [==============================] - 0s 995us/step - loss: 2254.7904\n",
            "Epoch 22/100\n",
            "250/250 [==============================] - 0s 1ms/step - loss: 2184.0445\n",
            "Epoch 23/100\n",
            "250/250 [==============================] - 0s 1ms/step - loss: 2197.2269\n",
            "Epoch 24/100\n",
            "250/250 [==============================] - 0s 1ms/step - loss: 2151.0530\n",
            "Epoch 25/100\n",
            "250/250 [==============================] - 0s 1ms/step - loss: 2157.9785\n",
            "Epoch 26/100\n",
            "250/250 [==============================] - 0s 1ms/step - loss: 2053.4603\n",
            "Epoch 27/100\n",
            "250/250 [==============================] - 0s 1ms/step - loss: 2060.0013\n",
            "Epoch 28/100\n",
            "250/250 [==============================] - 0s 974us/step - loss: 2186.7539\n",
            "Epoch 29/100\n",
            "250/250 [==============================] - 0s 1ms/step - loss: 2207.6347\n",
            "Epoch 30/100\n",
            "250/250 [==============================] - 0s 977us/step - loss: 2114.4638\n",
            "Epoch 31/100\n",
            "250/250 [==============================] - 0s 1ms/step - loss: 2089.9217\n",
            "Epoch 32/100\n",
            "250/250 [==============================] - 0s 957us/step - loss: 2179.3225\n",
            "Epoch 33/100\n",
            "250/250 [==============================] - 0s 1ms/step - loss: 2071.5217\n",
            "Epoch 34/100\n",
            "250/250 [==============================] - 0s 1ms/step - loss: 2064.7419\n",
            "Epoch 35/100\n",
            "250/250 [==============================] - 0s 1ms/step - loss: 2131.5368\n",
            "Epoch 36/100\n",
            "250/250 [==============================] - 0s 985us/step - loss: 2155.8655\n",
            "Epoch 37/100\n",
            "250/250 [==============================] - 0s 1ms/step - loss: 2076.7718\n",
            "Epoch 38/100\n",
            "250/250 [==============================] - 0s 1ms/step - loss: 2088.7018\n",
            "Epoch 39/100\n",
            "250/250 [==============================] - 0s 988us/step - loss: 2131.2690\n",
            "Epoch 40/100\n",
            "250/250 [==============================] - 0s 999us/step - loss: 2133.8072\n",
            "Epoch 41/100\n",
            "250/250 [==============================] - 0s 1ms/step - loss: 1965.2845\n",
            "Epoch 42/100\n",
            "250/250 [==============================] - 0s 963us/step - loss: 2027.3014\n",
            "Epoch 43/100\n",
            "250/250 [==============================] - 0s 999us/step - loss: 2140.8215\n",
            "Epoch 44/100\n",
            "250/250 [==============================] - 0s 1ms/step - loss: 2019.0715\n",
            "Epoch 45/100\n",
            "250/250 [==============================] - 0s 1ms/step - loss: 1998.8007\n",
            "Epoch 46/100\n",
            "250/250 [==============================] - 0s 1ms/step - loss: 2003.9643\n",
            "Epoch 47/100\n",
            "250/250 [==============================] - 0s 1ms/step - loss: 1962.5197\n",
            "Epoch 48/100\n",
            "250/250 [==============================] - 0s 1ms/step - loss: 2042.4702\n",
            "Epoch 49/100\n",
            "250/250 [==============================] - 0s 1ms/step - loss: 1937.4908\n",
            "Epoch 50/100\n",
            "250/250 [==============================] - 0s 1ms/step - loss: 1952.2777\n",
            "Epoch 51/100\n",
            "250/250 [==============================] - 0s 1ms/step - loss: 2047.7277\n",
            "Epoch 52/100\n",
            "250/250 [==============================] - 0s 1ms/step - loss: 2000.8723\n",
            "Epoch 53/100\n",
            "250/250 [==============================] - 0s 1ms/step - loss: 1959.8195\n",
            "Epoch 54/100\n",
            "250/250 [==============================] - 0s 1ms/step - loss: 1926.5576\n",
            "Epoch 55/100\n",
            "250/250 [==============================] - 0s 1ms/step - loss: 1967.9960\n",
            "Epoch 56/100\n",
            "250/250 [==============================] - 0s 1ms/step - loss: 1936.3012\n",
            "Epoch 57/100\n",
            "250/250 [==============================] - 0s 995us/step - loss: 2013.5973\n",
            "Epoch 58/100\n",
            "250/250 [==============================] - 0s 1ms/step - loss: 1920.0939\n",
            "Epoch 59/100\n",
            "250/250 [==============================] - 0s 1ms/step - loss: 1907.0178\n",
            "Epoch 60/100\n",
            "250/250 [==============================] - 0s 1ms/step - loss: 1967.4746\n",
            "Epoch 61/100\n",
            "250/250 [==============================] - 0s 1ms/step - loss: 1834.1988\n",
            "Epoch 62/100\n",
            "250/250 [==============================] - 0s 1ms/step - loss: 1876.4696\n",
            "Epoch 63/100\n",
            "250/250 [==============================] - 0s 1ms/step - loss: 1936.8320\n",
            "Epoch 64/100\n",
            "250/250 [==============================] - 0s 1ms/step - loss: 1814.5835\n",
            "Epoch 65/100\n",
            "250/250 [==============================] - 0s 975us/step - loss: 1862.1309\n",
            "Epoch 66/100\n",
            "250/250 [==============================] - 0s 1ms/step - loss: 1879.1471\n",
            "Epoch 67/100\n",
            "250/250 [==============================] - 0s 1ms/step - loss: 1899.2006\n",
            "Epoch 68/100\n",
            "250/250 [==============================] - 0s 1ms/step - loss: 1872.8688\n",
            "Epoch 69/100\n",
            "250/250 [==============================] - 0s 1ms/step - loss: 1818.8852\n",
            "Epoch 70/100\n",
            "250/250 [==============================] - 0s 983us/step - loss: 1905.3916\n",
            "Epoch 71/100\n",
            "250/250 [==============================] - 0s 1ms/step - loss: 1790.6804\n",
            "Epoch 72/100\n",
            "250/250 [==============================] - 0s 999us/step - loss: 1760.5341\n",
            "Epoch 73/100\n",
            "250/250 [==============================] - 0s 1ms/step - loss: 1878.2855\n",
            "Epoch 74/100\n",
            "250/250 [==============================] - 0s 961us/step - loss: 1851.5849\n",
            "Epoch 75/100\n",
            "250/250 [==============================] - 0s 1ms/step - loss: 1786.7348\n",
            "Epoch 76/100\n",
            "250/250 [==============================] - 0s 1ms/step - loss: 1813.9127\n",
            "Epoch 77/100\n",
            "250/250 [==============================] - 0s 1ms/step - loss: 1695.9083\n",
            "Epoch 78/100\n",
            "250/250 [==============================] - 0s 994us/step - loss: 1773.2388\n",
            "Epoch 79/100\n",
            "250/250 [==============================] - 0s 1ms/step - loss: 1754.0349\n",
            "Epoch 80/100\n",
            "250/250 [==============================] - 0s 1ms/step - loss: 1741.8741\n",
            "Epoch 81/100\n",
            "250/250 [==============================] - 0s 1ms/step - loss: 1825.6784\n",
            "Epoch 82/100\n",
            "250/250 [==============================] - 0s 1ms/step - loss: 1717.8101\n",
            "Epoch 83/100\n",
            "250/250 [==============================] - 0s 1ms/step - loss: 1744.7274\n",
            "Epoch 84/100\n",
            "250/250 [==============================] - 0s 1ms/step - loss: 1703.4728\n",
            "Epoch 85/100\n",
            "250/250 [==============================] - 0s 1ms/step - loss: 1670.1896\n",
            "Epoch 86/100\n",
            "250/250 [==============================] - 0s 1ms/step - loss: 1761.7373\n",
            "Epoch 87/100\n",
            "250/250 [==============================] - 0s 1ms/step - loss: 1731.2011\n",
            "Epoch 88/100\n",
            "250/250 [==============================] - 0s 1ms/step - loss: 1598.4778\n",
            "Epoch 89/100\n",
            "250/250 [==============================] - 0s 1ms/step - loss: 1694.8864\n",
            "Epoch 90/100\n",
            "250/250 [==============================] - 0s 1ms/step - loss: 1629.1620\n",
            "Epoch 91/100\n",
            "250/250 [==============================] - 0s 1ms/step - loss: 1705.4154\n",
            "Epoch 92/100\n",
            "250/250 [==============================] - 0s 1ms/step - loss: 1639.5741\n",
            "Epoch 93/100\n",
            "250/250 [==============================] - 0s 1ms/step - loss: 1663.3028\n",
            "Epoch 94/100\n",
            "250/250 [==============================] - 0s 1ms/step - loss: 1688.8720\n",
            "Epoch 95/100\n",
            "250/250 [==============================] - 0s 1ms/step - loss: 1639.3484\n",
            "Epoch 96/100\n",
            "250/250 [==============================] - 0s 1ms/step - loss: 1630.9477\n",
            "Epoch 97/100\n",
            "250/250 [==============================] - 0s 1ms/step - loss: 1607.2506\n",
            "Epoch 98/100\n",
            "250/250 [==============================] - 0s 1ms/step - loss: 1646.1459\n",
            "Epoch 99/100\n",
            "250/250 [==============================] - 0s 1ms/step - loss: 1621.5270\n",
            "Epoch 100/100\n",
            "250/250 [==============================] - 0s 1ms/step - loss: 1558.1520\n"
          ],
          "name": "stdout"
        },
        {
          "output_type": "execute_result",
          "data": {
            "text/plain": [
              "<tensorflow.python.keras.callbacks.History at 0x7f0846bbd890>"
            ]
          },
          "metadata": {
            "tags": []
          },
          "execution_count": 37
        }
      ]
    },
    {
      "cell_type": "code",
      "metadata": {
        "colab": {
          "base_uri": "https://localhost:8080/",
          "height": 402
        },
        "id": "aetOfEKy5K-N",
        "outputId": "1b7bacac-219e-4293-b6d2-418e8bb82e18"
      },
      "source": [
        "loss = pd.DataFrame(model.history.history)\r\n",
        "loss"
      ],
      "execution_count": 38,
      "outputs": [
        {
          "output_type": "execute_result",
          "data": {
            "text/html": [
              "<div>\n",
              "<style scoped>\n",
              "    .dataframe tbody tr th:only-of-type {\n",
              "        vertical-align: middle;\n",
              "    }\n",
              "\n",
              "    .dataframe tbody tr th {\n",
              "        vertical-align: top;\n",
              "    }\n",
              "\n",
              "    .dataframe thead th {\n",
              "        text-align: right;\n",
              "    }\n",
              "</style>\n",
              "<table border=\"1\" class=\"dataframe\">\n",
              "  <thead>\n",
              "    <tr style=\"text-align: right;\">\n",
              "      <th></th>\n",
              "      <th>loss</th>\n",
              "    </tr>\n",
              "  </thead>\n",
              "  <tbody>\n",
              "    <tr>\n",
              "      <th>0</th>\n",
              "      <td>2411.343506</td>\n",
              "    </tr>\n",
              "    <tr>\n",
              "      <th>1</th>\n",
              "      <td>2401.338867</td>\n",
              "    </tr>\n",
              "    <tr>\n",
              "      <th>2</th>\n",
              "      <td>2391.303955</td>\n",
              "    </tr>\n",
              "    <tr>\n",
              "      <th>3</th>\n",
              "      <td>2381.293457</td>\n",
              "    </tr>\n",
              "    <tr>\n",
              "      <th>4</th>\n",
              "      <td>2371.349121</td>\n",
              "    </tr>\n",
              "    <tr>\n",
              "      <th>...</th>\n",
              "      <td>...</td>\n",
              "    </tr>\n",
              "    <tr>\n",
              "      <th>95</th>\n",
              "      <td>1638.659302</td>\n",
              "    </tr>\n",
              "    <tr>\n",
              "      <th>96</th>\n",
              "      <td>1631.931030</td>\n",
              "    </tr>\n",
              "    <tr>\n",
              "      <th>97</th>\n",
              "      <td>1625.234741</td>\n",
              "    </tr>\n",
              "    <tr>\n",
              "      <th>98</th>\n",
              "      <td>1618.557739</td>\n",
              "    </tr>\n",
              "    <tr>\n",
              "      <th>99</th>\n",
              "      <td>1611.888794</td>\n",
              "    </tr>\n",
              "  </tbody>\n",
              "</table>\n",
              "<p>100 rows × 1 columns</p>\n",
              "</div>"
            ],
            "text/plain": [
              "           loss\n",
              "0   2411.343506\n",
              "1   2401.338867\n",
              "2   2391.303955\n",
              "3   2381.293457\n",
              "4   2371.349121\n",
              "..          ...\n",
              "95  1638.659302\n",
              "96  1631.931030\n",
              "97  1625.234741\n",
              "98  1618.557739\n",
              "99  1611.888794\n",
              "\n",
              "[100 rows x 1 columns]"
            ]
          },
          "metadata": {
            "tags": []
          },
          "execution_count": 38
        }
      ]
    },
    {
      "cell_type": "code",
      "metadata": {
        "id": "t4yU9CLy5dj0"
      },
      "source": [
        "#Plotting Loss Graph"
      ],
      "execution_count": 39,
      "outputs": []
    },
    {
      "cell_type": "code",
      "metadata": {
        "colab": {
          "base_uri": "https://localhost:8080/",
          "height": 282
        },
        "id": "4Gg-U1Hm5h4d",
        "outputId": "0c7e94d7-8809-47a3-af45-c88bd04addb7"
      },
      "source": [
        "loss.plot()"
      ],
      "execution_count": 40,
      "outputs": [
        {
          "output_type": "execute_result",
          "data": {
            "text/plain": [
              "<matplotlib.axes._subplots.AxesSubplot at 0x7f08462a7750>"
            ]
          },
          "metadata": {
            "tags": []
          },
          "execution_count": 40
        },
        {
          "output_type": "display_data",
          "data": {
            "image/png": "[encoded data removed]",
            "text/plain": [
              "<Figure size 432x288 with 1 Axes>"
            ]
          },
          "metadata": {
            "tags": [],
            "needs_background": "light"
          }
        }
      ]
    },
    {
      "cell_type": "code",
      "metadata": {
        "id": "efL5Kdjc5jtO"
      },
      "source": [
        "#As you can see the graph of the loss is slowly decreasing. So this can be possible because of Adam Optimizers"
      ],
      "execution_count": 41,
      "outputs": []
    },
    {
      "cell_type": "code",
      "metadata": {
        "id": "KA9Faz-V5tDm"
      },
      "source": [
        "#Prediction\r\n",
        "# To predict i am just giving random iputs but you can use the right values and it will predict on that case."
      ],
      "execution_count": 42,
      "outputs": []
    },
    {
      "cell_type": "code",
      "metadata": {
        "colab": {
          "base_uri": "https://localhost:8080/"
        },
        "id": "G0X07jwz5z4I",
        "outputId": "a764f5c1-fe0c-4732-df49-37027aa91e10"
      },
      "source": [
        "print(\"The employee will  :\", model.predict([[1,2,3,4,5,6,7,8,9,10,11]])[0][0])"
      ],
      "execution_count": 43,
      "outputs": [
        {
          "output_type": "stream",
          "text": [
            "The employee will  : 0.1003651\n"
          ],
          "name": "stdout"
        }
      ]
    },
    {
      "cell_type": "code",
      "metadata": {
        "id": "KV73D3oo54jU"
      },
      "source": [
        ""
      ],
      "execution_count": 43,
      "outputs": []
    }
  ]
}